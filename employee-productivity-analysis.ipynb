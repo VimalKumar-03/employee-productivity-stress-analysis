{
 "cells": [
  {
   "cell_type": "raw",
   "id": "906f2daa-009b-4e6b-b2e9-afb255e87770",
   "metadata": {},
   "source": [
    "### Problem Statement\n",
    "\n",
    "With the increasing adoption of remote work, \n",
    "companies need to understand how working remotely versus onsite affects employee stress levels and productivity. \n",
    "This project analyzes differences in stress and performance between remote and non-remote employees,\n",
    "identifies key factors influencing employee well-being, and provides actionable insights to help organizations\n",
    "create better work environments and support systems for all employees.\n"
   ]
  },
  {
   "cell_type": "code",
   "execution_count": 1,
   "id": "0b6b9be6-4842-4c1a-b05e-267d692a4f34",
   "metadata": {},
   "outputs": [],
   "source": [
    "import pandas as pd\n",
    "import warnings\n",
    "warnings.filterwarnings(\"ignore\")"
   ]
  },
  {
   "cell_type": "code",
   "execution_count": 2,
   "id": "25d529a8-af56-47f9-b732-0af8f1699a1c",
   "metadata": {},
   "outputs": [],
   "source": [
    "df = pd.read_csv('Employee_Stress_Remote_Work_2000Rows.csv')"
   ]
  },
  {
   "cell_type": "code",
   "execution_count": 3,
   "id": "86ebd6cd-a290-410d-9834-b824feb0803e",
   "metadata": {},
   "outputs": [
    {
     "data": {
      "text/html": [
       "<div>\n",
       "<style scoped>\n",
       "    .dataframe tbody tr th:only-of-type {\n",
       "        vertical-align: middle;\n",
       "    }\n",
       "\n",
       "    .dataframe tbody tr th {\n",
       "        vertical-align: top;\n",
       "    }\n",
       "\n",
       "    .dataframe thead th {\n",
       "        text-align: right;\n",
       "    }\n",
       "</style>\n",
       "<table border=\"1\" class=\"dataframe\">\n",
       "  <thead>\n",
       "    <tr style=\"text-align: right;\">\n",
       "      <th></th>\n",
       "      <th>Employee_ID</th>\n",
       "      <th>Age</th>\n",
       "      <th>Gender</th>\n",
       "      <th>Department</th>\n",
       "      <th>Remote_Work</th>\n",
       "      <th>Daily_Work_Hours</th>\n",
       "      <th>Screen_Time_Hours</th>\n",
       "      <th>Sleep_Quality</th>\n",
       "      <th>Physical_Activity_Level</th>\n",
       "      <th>Burnout_Score</th>\n",
       "      <th>Stress_Level</th>\n",
       "      <th>Coffee_Intake_per_Day</th>\n",
       "      <th>Meeting_Hours_per_Day</th>\n",
       "      <th>Internet_Speed_MBPS</th>\n",
       "      <th>Device_Type</th>\n",
       "      <th>Noise_Level</th>\n",
       "      <th>Mood</th>\n",
       "      <th>Commute_Hours_PreRemote</th>\n",
       "      <th>Work_Engagement_Score</th>\n",
       "      <th>Weekly_Mental_Breaks</th>\n",
       "    </tr>\n",
       "  </thead>\n",
       "  <tbody>\n",
       "    <tr>\n",
       "      <th>0</th>\n",
       "      <td>E001</td>\n",
       "      <td>48</td>\n",
       "      <td>male</td>\n",
       "      <td>Sales</td>\n",
       "      <td>yes</td>\n",
       "      <td>12.0</td>\n",
       "      <td>8</td>\n",
       "      <td>Poor</td>\n",
       "      <td>NaN</td>\n",
       "      <td>6.07</td>\n",
       "      <td>Medium</td>\n",
       "      <td>0.0</td>\n",
       "      <td>NaN</td>\n",
       "      <td>20.0</td>\n",
       "      <td>NaN</td>\n",
       "      <td>Medium</td>\n",
       "      <td>Stressed</td>\n",
       "      <td>4.0</td>\n",
       "      <td>12.71</td>\n",
       "      <td>0.0</td>\n",
       "    </tr>\n",
       "    <tr>\n",
       "      <th>1</th>\n",
       "      <td>E003</td>\n",
       "      <td>32</td>\n",
       "      <td>NaN</td>\n",
       "      <td>hr</td>\n",
       "      <td>No</td>\n",
       "      <td>10.0</td>\n",
       "      <td>NaN</td>\n",
       "      <td>NaN</td>\n",
       "      <td>NaN</td>\n",
       "      <td>5.68</td>\n",
       "      <td>High</td>\n",
       "      <td>4.0</td>\n",
       "      <td>NaN</td>\n",
       "      <td>10.0</td>\n",
       "      <td>Mobile</td>\n",
       "      <td>Low</td>\n",
       "      <td>NaN</td>\n",
       "      <td>0.0</td>\n",
       "      <td>3.85</td>\n",
       "      <td>5.0</td>\n",
       "    </tr>\n",
       "    <tr>\n",
       "      <th>2</th>\n",
       "      <td>E001</td>\n",
       "      <td>22</td>\n",
       "      <td>Male</td>\n",
       "      <td>Admin</td>\n",
       "      <td>no</td>\n",
       "      <td>6.0</td>\n",
       "      <td>7</td>\n",
       "      <td>Good</td>\n",
       "      <td>Low</td>\n",
       "      <td>4.33</td>\n",
       "      <td>NaN</td>\n",
       "      <td>0.0</td>\n",
       "      <td>1.0</td>\n",
       "      <td>50.0</td>\n",
       "      <td>Desktop</td>\n",
       "      <td>Medium</td>\n",
       "      <td>Happy</td>\n",
       "      <td>0.0</td>\n",
       "      <td>4.75</td>\n",
       "      <td>3.0</td>\n",
       "    </tr>\n",
       "    <tr>\n",
       "      <th>3</th>\n",
       "      <td>E001</td>\n",
       "      <td>34</td>\n",
       "      <td>NaN</td>\n",
       "      <td>HR</td>\n",
       "      <td>NaN</td>\n",
       "      <td>6.0</td>\n",
       "      <td>10.5 hrs</td>\n",
       "      <td>Fair</td>\n",
       "      <td>Medium</td>\n",
       "      <td>5.57</td>\n",
       "      <td>NaN</td>\n",
       "      <td>2.0</td>\n",
       "      <td>1.0</td>\n",
       "      <td>150.0</td>\n",
       "      <td>Desktop</td>\n",
       "      <td>NaN</td>\n",
       "      <td>Tired</td>\n",
       "      <td>1.0</td>\n",
       "      <td>7.63</td>\n",
       "      <td>2.0</td>\n",
       "    </tr>\n",
       "    <tr>\n",
       "      <th>4</th>\n",
       "      <td>E001</td>\n",
       "      <td>51</td>\n",
       "      <td>Female</td>\n",
       "      <td>Sales</td>\n",
       "      <td>NaN</td>\n",
       "      <td>12.0</td>\n",
       "      <td>10.5 hrs</td>\n",
       "      <td>Poor</td>\n",
       "      <td>High</td>\n",
       "      <td>6.96</td>\n",
       "      <td>Low</td>\n",
       "      <td>NaN</td>\n",
       "      <td>2.0</td>\n",
       "      <td>10.0</td>\n",
       "      <td>Mobile</td>\n",
       "      <td>Low</td>\n",
       "      <td>NaN</td>\n",
       "      <td>5.0</td>\n",
       "      <td>5.60</td>\n",
       "      <td>0.0</td>\n",
       "    </tr>\n",
       "    <tr>\n",
       "      <th>...</th>\n",
       "      <td>...</td>\n",
       "      <td>...</td>\n",
       "      <td>...</td>\n",
       "      <td>...</td>\n",
       "      <td>...</td>\n",
       "      <td>...</td>\n",
       "      <td>...</td>\n",
       "      <td>...</td>\n",
       "      <td>...</td>\n",
       "      <td>...</td>\n",
       "      <td>...</td>\n",
       "      <td>...</td>\n",
       "      <td>...</td>\n",
       "      <td>...</td>\n",
       "      <td>...</td>\n",
       "      <td>...</td>\n",
       "      <td>...</td>\n",
       "      <td>...</td>\n",
       "      <td>...</td>\n",
       "      <td>...</td>\n",
       "    </tr>\n",
       "    <tr>\n",
       "      <th>1995</th>\n",
       "      <td>E004</td>\n",
       "      <td>22</td>\n",
       "      <td>Female</td>\n",
       "      <td>Admin</td>\n",
       "      <td>Yes</td>\n",
       "      <td>10.0</td>\n",
       "      <td>NaN</td>\n",
       "      <td>NaN</td>\n",
       "      <td>Medium</td>\n",
       "      <td>4.64</td>\n",
       "      <td>Medium</td>\n",
       "      <td>4.0</td>\n",
       "      <td>NaN</td>\n",
       "      <td>50.0</td>\n",
       "      <td>Laptop</td>\n",
       "      <td>NaN</td>\n",
       "      <td>Calm</td>\n",
       "      <td>5.0</td>\n",
       "      <td>5.79</td>\n",
       "      <td>NaN</td>\n",
       "    </tr>\n",
       "    <tr>\n",
       "      <th>1996</th>\n",
       "      <td>E001</td>\n",
       "      <td>34</td>\n",
       "      <td>male</td>\n",
       "      <td>HR</td>\n",
       "      <td>Yes</td>\n",
       "      <td>12.0</td>\n",
       "      <td>NaN</td>\n",
       "      <td>Fair</td>\n",
       "      <td>NaN</td>\n",
       "      <td>2.96</td>\n",
       "      <td>High</td>\n",
       "      <td>4.0</td>\n",
       "      <td>4.0</td>\n",
       "      <td>100.0</td>\n",
       "      <td>Mobile</td>\n",
       "      <td>NaN</td>\n",
       "      <td>NaN</td>\n",
       "      <td>5.0</td>\n",
       "      <td>3.02</td>\n",
       "      <td>1.0</td>\n",
       "    </tr>\n",
       "    <tr>\n",
       "      <th>1997</th>\n",
       "      <td>E002</td>\n",
       "      <td>35</td>\n",
       "      <td>male</td>\n",
       "      <td>hr</td>\n",
       "      <td>NaN</td>\n",
       "      <td>12.0</td>\n",
       "      <td>6 hrs</td>\n",
       "      <td>NaN</td>\n",
       "      <td>Medium</td>\n",
       "      <td>8.89</td>\n",
       "      <td>Medium</td>\n",
       "      <td>1.0</td>\n",
       "      <td>2.0</td>\n",
       "      <td>NaN</td>\n",
       "      <td>Laptop</td>\n",
       "      <td>High</td>\n",
       "      <td>Stressed</td>\n",
       "      <td>5.0</td>\n",
       "      <td>7.72</td>\n",
       "      <td>0.0</td>\n",
       "    </tr>\n",
       "    <tr>\n",
       "      <th>1998</th>\n",
       "      <td>E005</td>\n",
       "      <td>54</td>\n",
       "      <td>F</td>\n",
       "      <td>it</td>\n",
       "      <td>NaN</td>\n",
       "      <td>12.0</td>\n",
       "      <td>10.5 hrs</td>\n",
       "      <td>Poor</td>\n",
       "      <td>Medium</td>\n",
       "      <td>5.63</td>\n",
       "      <td>Low</td>\n",
       "      <td>4.0</td>\n",
       "      <td>NaN</td>\n",
       "      <td>10.0</td>\n",
       "      <td>Desktop</td>\n",
       "      <td>NaN</td>\n",
       "      <td>Stressed</td>\n",
       "      <td>1.0</td>\n",
       "      <td>3.36</td>\n",
       "      <td>2.0</td>\n",
       "    </tr>\n",
       "    <tr>\n",
       "      <th>1999</th>\n",
       "      <td>E003</td>\n",
       "      <td>23</td>\n",
       "      <td>NaN</td>\n",
       "      <td>NaN</td>\n",
       "      <td>no</td>\n",
       "      <td>6.0</td>\n",
       "      <td>6 hrs</td>\n",
       "      <td>Good</td>\n",
       "      <td>Low</td>\n",
       "      <td>4.15</td>\n",
       "      <td>NaN</td>\n",
       "      <td>2.0</td>\n",
       "      <td>6.0</td>\n",
       "      <td>NaN</td>\n",
       "      <td>Laptop</td>\n",
       "      <td>Low</td>\n",
       "      <td>Happy</td>\n",
       "      <td>0.0</td>\n",
       "      <td>7.83</td>\n",
       "      <td>0.0</td>\n",
       "    </tr>\n",
       "  </tbody>\n",
       "</table>\n",
       "<p>2000 rows × 20 columns</p>\n",
       "</div>"
      ],
      "text/plain": [
       "     Employee_ID  Age  Gender Department Remote_Work  Daily_Work_Hours  \\\n",
       "0           E001   48    male      Sales         yes              12.0   \n",
       "1           E003   32     NaN         hr          No              10.0   \n",
       "2           E001   22    Male      Admin          no               6.0   \n",
       "3           E001   34     NaN         HR         NaN               6.0   \n",
       "4           E001   51  Female      Sales         NaN              12.0   \n",
       "...          ...  ...     ...        ...         ...               ...   \n",
       "1995        E004   22  Female      Admin         Yes              10.0   \n",
       "1996        E001   34    male         HR         Yes              12.0   \n",
       "1997        E002   35    male         hr         NaN              12.0   \n",
       "1998        E005   54       F         it         NaN              12.0   \n",
       "1999        E003   23     NaN        NaN          no               6.0   \n",
       "\n",
       "     Screen_Time_Hours Sleep_Quality Physical_Activity_Level  Burnout_Score  \\\n",
       "0                    8          Poor                     NaN           6.07   \n",
       "1                  NaN           NaN                     NaN           5.68   \n",
       "2                    7          Good                     Low           4.33   \n",
       "3             10.5 hrs          Fair                  Medium           5.57   \n",
       "4             10.5 hrs          Poor                    High           6.96   \n",
       "...                ...           ...                     ...            ...   \n",
       "1995               NaN           NaN                  Medium           4.64   \n",
       "1996               NaN          Fair                     NaN           2.96   \n",
       "1997             6 hrs           NaN                  Medium           8.89   \n",
       "1998          10.5 hrs          Poor                  Medium           5.63   \n",
       "1999             6 hrs          Good                     Low           4.15   \n",
       "\n",
       "     Stress_Level  Coffee_Intake_per_Day  Meeting_Hours_per_Day  \\\n",
       "0          Medium                    0.0                    NaN   \n",
       "1            High                    4.0                    NaN   \n",
       "2             NaN                    0.0                    1.0   \n",
       "3             NaN                    2.0                    1.0   \n",
       "4             Low                    NaN                    2.0   \n",
       "...           ...                    ...                    ...   \n",
       "1995       Medium                    4.0                    NaN   \n",
       "1996         High                    4.0                    4.0   \n",
       "1997       Medium                    1.0                    2.0   \n",
       "1998          Low                    4.0                    NaN   \n",
       "1999          NaN                    2.0                    6.0   \n",
       "\n",
       "      Internet_Speed_MBPS Device_Type Noise_Level      Mood  \\\n",
       "0                    20.0         NaN      Medium  Stressed   \n",
       "1                    10.0      Mobile         Low       NaN   \n",
       "2                    50.0     Desktop      Medium     Happy   \n",
       "3                   150.0     Desktop         NaN     Tired   \n",
       "4                    10.0      Mobile         Low       NaN   \n",
       "...                   ...         ...         ...       ...   \n",
       "1995                 50.0      Laptop         NaN      Calm   \n",
       "1996                100.0      Mobile         NaN       NaN   \n",
       "1997                  NaN      Laptop        High  Stressed   \n",
       "1998                 10.0     Desktop         NaN  Stressed   \n",
       "1999                  NaN      Laptop         Low     Happy   \n",
       "\n",
       "      Commute_Hours_PreRemote  Work_Engagement_Score  Weekly_Mental_Breaks  \n",
       "0                         4.0                  12.71                   0.0  \n",
       "1                         0.0                   3.85                   5.0  \n",
       "2                         0.0                   4.75                   3.0  \n",
       "3                         1.0                   7.63                   2.0  \n",
       "4                         5.0                   5.60                   0.0  \n",
       "...                       ...                    ...                   ...  \n",
       "1995                      5.0                   5.79                   NaN  \n",
       "1996                      5.0                   3.02                   1.0  \n",
       "1997                      5.0                   7.72                   0.0  \n",
       "1998                      1.0                   3.36                   2.0  \n",
       "1999                      0.0                   7.83                   0.0  \n",
       "\n",
       "[2000 rows x 20 columns]"
      ]
     },
     "execution_count": 3,
     "metadata": {},
     "output_type": "execute_result"
    }
   ],
   "source": [
    "df"
   ]
  },
  {
   "cell_type": "code",
   "execution_count": 4,
   "id": "650aa7bd-82ec-46ef-b04b-c955e915fe87",
   "metadata": {},
   "outputs": [
    {
     "name": "stdout",
     "output_type": "stream",
     "text": [
      "(2000, 20)\n"
     ]
    }
   ],
   "source": [
    "#Shape\n",
    "print(df.shape)"
   ]
  },
  {
   "cell_type": "code",
   "execution_count": 5,
   "id": "9bdc6581-6d83-4a21-b3ce-94d40020e45c",
   "metadata": {},
   "outputs": [
    {
     "name": "stdout",
     "output_type": "stream",
     "text": [
      "  Employee_ID  Age  Gender Department Remote_Work  Daily_Work_Hours  \\\n",
      "0        E001   48    male      Sales         yes              12.0   \n",
      "1        E003   32     NaN         hr          No              10.0   \n",
      "2        E001   22    Male      Admin          no               6.0   \n",
      "3        E001   34     NaN         HR         NaN               6.0   \n",
      "4        E001   51  Female      Sales         NaN              12.0   \n",
      "\n",
      "  Screen_Time_Hours Sleep_Quality Physical_Activity_Level  Burnout_Score  \\\n",
      "0                 8          Poor                     NaN           6.07   \n",
      "1               NaN           NaN                     NaN           5.68   \n",
      "2                 7          Good                     Low           4.33   \n",
      "3          10.5 hrs          Fair                  Medium           5.57   \n",
      "4          10.5 hrs          Poor                    High           6.96   \n",
      "\n",
      "  Stress_Level  Coffee_Intake_per_Day  Meeting_Hours_per_Day  \\\n",
      "0       Medium                    0.0                    NaN   \n",
      "1         High                    4.0                    NaN   \n",
      "2          NaN                    0.0                    1.0   \n",
      "3          NaN                    2.0                    1.0   \n",
      "4          Low                    NaN                    2.0   \n",
      "\n",
      "   Internet_Speed_MBPS Device_Type Noise_Level      Mood  \\\n",
      "0                 20.0         NaN      Medium  Stressed   \n",
      "1                 10.0      Mobile         Low       NaN   \n",
      "2                 50.0     Desktop      Medium     Happy   \n",
      "3                150.0     Desktop         NaN     Tired   \n",
      "4                 10.0      Mobile         Low       NaN   \n",
      "\n",
      "   Commute_Hours_PreRemote  Work_Engagement_Score  Weekly_Mental_Breaks  \n",
      "0                      4.0                  12.71                   0.0  \n",
      "1                      0.0                   3.85                   5.0  \n",
      "2                      0.0                   4.75                   3.0  \n",
      "3                      1.0                   7.63                   2.0  \n",
      "4                      5.0                   5.60                   0.0  \n"
     ]
    }
   ],
   "source": [
    "#First 5 rows\n",
    "print(df.head())"
   ]
  },
  {
   "cell_type": "code",
   "execution_count": 6,
   "id": "b7d7fafa-3026-4e07-86c0-d6e80e5967df",
   "metadata": {},
   "outputs": [
    {
     "name": "stdout",
     "output_type": "stream",
     "text": [
      "Employee_ID                 object\n",
      "Age                          int64\n",
      "Gender                      object\n",
      "Department                  object\n",
      "Remote_Work                 object\n",
      "Daily_Work_Hours           float64\n",
      "Screen_Time_Hours           object\n",
      "Sleep_Quality               object\n",
      "Physical_Activity_Level     object\n",
      "Burnout_Score              float64\n",
      "Stress_Level                object\n",
      "Coffee_Intake_per_Day      float64\n",
      "Meeting_Hours_per_Day      float64\n",
      "Internet_Speed_MBPS        float64\n",
      "Device_Type                 object\n",
      "Noise_Level                 object\n",
      "Mood                        object\n",
      "Commute_Hours_PreRemote    float64\n",
      "Work_Engagement_Score      float64\n",
      "Weekly_Mental_Breaks       float64\n",
      "dtype: object\n",
      "\n",
      "Employee_ID                  0\n",
      "Age                          0\n",
      "Gender                     282\n",
      "Department                 288\n",
      "Remote_Work                433\n",
      "Daily_Work_Hours           340\n",
      "Screen_Time_Hours          450\n",
      "Sleep_Quality              507\n",
      "Physical_Activity_Level    477\n",
      "Burnout_Score                0\n",
      "Stress_Level               466\n",
      "Coffee_Intake_per_Day      330\n",
      "Meeting_Hours_per_Day      299\n",
      "Internet_Speed_MBPS        343\n",
      "Device_Type                515\n",
      "Noise_Level                495\n",
      "Mood                       380\n",
      "Commute_Hours_PreRemote    285\n",
      "Work_Engagement_Score        0\n",
      "Weekly_Mental_Breaks       301\n",
      "dtype: int64\n"
     ]
    }
   ],
   "source": [
    "#Info (dtypes, nulls)\n",
    "print(df.dtypes)\n",
    "print()\n",
    "print(df.isnull().sum())"
   ]
  },
  {
   "cell_type": "code",
   "execution_count": 7,
   "id": "ecf8aab0-22c0-4615-868e-550e4e21c68d",
   "metadata": {},
   "outputs": [
    {
     "data": {
      "text/plain": [
       "0       False\n",
       "1       False\n",
       "2       False\n",
       "3       False\n",
       "4       False\n",
       "        ...  \n",
       "1995    False\n",
       "1996    False\n",
       "1997    False\n",
       "1998    False\n",
       "1999    False\n",
       "Length: 2000, dtype: bool"
      ]
     },
     "execution_count": 7,
     "metadata": {},
     "output_type": "execute_result"
    }
   ],
   "source": [
    "#Count of duplicate rows\n",
    "df.duplicated()"
   ]
  },
  {
   "cell_type": "code",
   "execution_count": 8,
   "id": "50bebf5f-3f8a-45c3-b290-63d5b29b0e2c",
   "metadata": {},
   "outputs": [
    {
     "data": {
      "text/plain": [
       "Index(['Employee_ID', 'Age', 'Gender', 'Department', 'Remote_Work',\n",
       "       'Daily_Work_Hours', 'Screen_Time_Hours', 'Sleep_Quality',\n",
       "       'Physical_Activity_Level', 'Burnout_Score', 'Stress_Level',\n",
       "       'Coffee_Intake_per_Day', 'Meeting_Hours_per_Day', 'Internet_Speed_MBPS',\n",
       "       'Device_Type', 'Noise_Level', 'Mood', 'Commute_Hours_PreRemote',\n",
       "       'Work_Engagement_Score', 'Weekly_Mental_Breaks'],\n",
       "      dtype='object')"
      ]
     },
     "execution_count": 8,
     "metadata": {},
     "output_type": "execute_result"
    }
   ],
   "source": [
    "# printing columns name\n",
    "df.columns"
   ]
  },
  {
   "cell_type": "code",
   "execution_count": 9,
   "id": "7d7759dd-5fa6-411f-a385-824b94ebc923",
   "metadata": {},
   "outputs": [],
   "source": [
    "# Removing Extra space of all columns , using tile case and replacing \"_\" with \" \"\n",
    "df.columns =df.columns.str.strip().str.replace('_' , ' ').str.title()"
   ]
  },
  {
   "cell_type": "code",
   "execution_count": 10,
   "id": "93ee5543-362d-4fb4-8f65-05dfe326076e",
   "metadata": {},
   "outputs": [
    {
     "data": {
      "text/plain": [
       "Index(['Employee Id', 'Age', 'Gender', 'Department', 'Remote Work',\n",
       "       'Daily Work Hours', 'Screen Time Hours', 'Sleep Quality',\n",
       "       'Physical Activity Level', 'Burnout Score', 'Stress Level',\n",
       "       'Coffee Intake Per Day', 'Meeting Hours Per Day', 'Internet Speed Mbps',\n",
       "       'Device Type', 'Noise Level', 'Mood', 'Commute Hours Preremote',\n",
       "       'Work Engagement Score', 'Weekly Mental Breaks'],\n",
       "      dtype='object')"
      ]
     },
     "execution_count": 10,
     "metadata": {},
     "output_type": "execute_result"
    }
   ],
   "source": [
    "df.columns"
   ]
  },
  {
   "cell_type": "code",
   "execution_count": 11,
   "id": "19efb9a5-02d4-4826-94ce-06decf0c16bf",
   "metadata": {},
   "outputs": [
    {
     "name": "stdout",
     "output_type": "stream",
     "text": [
      "Employee Id                  0\n",
      "Age                          0\n",
      "Gender                     282\n",
      "Department                 288\n",
      "Remote Work                433\n",
      "Daily Work Hours           340\n",
      "Screen Time Hours          450\n",
      "Sleep Quality              507\n",
      "Physical Activity Level    477\n",
      "Burnout Score                0\n",
      "Stress Level               466\n",
      "Coffee Intake Per Day      330\n",
      "Meeting Hours Per Day      299\n",
      "Internet Speed Mbps        343\n",
      "Device Type                515\n",
      "Noise Level                495\n",
      "Mood                       380\n",
      "Commute Hours Preremote    285\n",
      "Work Engagement Score        0\n",
      "Weekly Mental Breaks       301\n",
      "dtype: int64\n",
      "\n"
     ]
    },
    {
     "data": {
      "text/plain": [
       "Employee Id                0.0000\n",
       "Age                        0.0000\n",
       "Gender                     0.1410\n",
       "Department                 0.1440\n",
       "Remote Work                0.2165\n",
       "Daily Work Hours           0.1700\n",
       "Screen Time Hours          0.2250\n",
       "Sleep Quality              0.2535\n",
       "Physical Activity Level    0.2385\n",
       "Burnout Score              0.0000\n",
       "Stress Level               0.2330\n",
       "Coffee Intake Per Day      0.1650\n",
       "Meeting Hours Per Day      0.1495\n",
       "Internet Speed Mbps        0.1715\n",
       "Device Type                0.2575\n",
       "Noise Level                0.2475\n",
       "Mood                       0.1900\n",
       "Commute Hours Preremote    0.1425\n",
       "Work Engagement Score      0.0000\n",
       "Weekly Mental Breaks       0.1505\n",
       "dtype: float64"
      ]
     },
     "execution_count": 11,
     "metadata": {},
     "output_type": "execute_result"
    }
   ],
   "source": [
    "# checking total number of null and percentage of it\n",
    "print(df.isnull().sum())\n",
    "print()\n",
    "(df.isnull().sum() / len(df))"
   ]
  },
  {
   "cell_type": "markdown",
   "id": "09bcb872-efb9-4492-8e66-262ab0bcb65e",
   "metadata": {},
   "source": [
    "# Data Cleaning , Handling Null Values"
   ]
  },
  {
   "cell_type": "code",
   "execution_count": 13,
   "id": "d7c9c0d7-435a-4009-a70a-9c4e96c4b547",
   "metadata": {},
   "outputs": [
    {
     "data": {
      "text/plain": [
       "Index(['Employee Id', 'Age', 'Gender', 'Department', 'Remote Work',\n",
       "       'Daily Work Hours', 'Screen Time Hours', 'Sleep Quality',\n",
       "       'Physical Activity Level', 'Burnout Score', 'Stress Level',\n",
       "       'Coffee Intake Per Day', 'Meeting Hours Per Day', 'Internet Speed Mbps',\n",
       "       'Device Type', 'Noise Level', 'Mood', 'Commute Hours Preremote',\n",
       "       'Work Engagement Score', 'Weekly Mental Breaks'],\n",
       "      dtype='object')"
      ]
     },
     "execution_count": 13,
     "metadata": {},
     "output_type": "execute_result"
    }
   ],
   "source": [
    "df.columns"
   ]
  },
  {
   "cell_type": "code",
   "execution_count": 14,
   "id": "4f8e2241-ba5f-4fe3-968a-de72ef071430",
   "metadata": {},
   "outputs": [],
   "source": [
    "# df.drop_duplicates(subset='Employee Id', keep='first', inplace=True)"
   ]
  },
  {
   "cell_type": "code",
   "execution_count": 15,
   "id": "47c0a2f3-a504-4918-99c6-030a5b5c97d6",
   "metadata": {},
   "outputs": [
    {
     "data": {
      "text/plain": [
       "Gender\n",
       "male      318\n",
       "Female    301\n",
       "F         284\n",
       "FEMALE    277\n",
       "Male      274\n",
       "M         264\n",
       "Name: count, dtype: int64"
      ]
     },
     "execution_count": 15,
     "metadata": {},
     "output_type": "execute_result"
    }
   ],
   "source": [
    "#  value counts of Gender \n",
    "df['Gender'].value_counts()"
   ]
  },
  {
   "cell_type": "code",
   "execution_count": 16,
   "id": "6f5927c9-23fc-46f0-8204-4d8db12e187a",
   "metadata": {},
   "outputs": [],
   "source": [
    "# maping gender\n",
    "gender_maping = ({'male':'Male' , 'F':'Female' ,'FEMALE':'Female' , 'M':'Male'})"
   ]
  },
  {
   "cell_type": "code",
   "execution_count": 17,
   "id": "09bbd66e-4d18-492a-92e1-73e47c557164",
   "metadata": {},
   "outputs": [],
   "source": [
    "# Applying Maping To Gender\n",
    "df['Gender']=df['Gender'].map(gender_maping)"
   ]
  },
  {
   "cell_type": "code",
   "execution_count": 18,
   "id": "684efe25-4faa-4824-8442-2b340d035e81",
   "metadata": {},
   "outputs": [
    {
     "data": {
      "text/plain": [
       "Gender\n",
       "Male      582\n",
       "Female    561\n",
       "Name: count, dtype: int64"
      ]
     },
     "execution_count": 18,
     "metadata": {},
     "output_type": "execute_result"
    }
   ],
   "source": [
    "# Checking value_counts again\n",
    "df['Gender'].value_counts()"
   ]
  },
  {
   "cell_type": "code",
   "execution_count": 19,
   "id": "1c3e5af5-2125-4be8-9f72-3382d530a83d",
   "metadata": {},
   "outputs": [],
   "source": [
    "# Filling all null values in gender with mode\n",
    "df['Gender']=df['Gender'].fillna(df['Gender'].mode()[0])"
   ]
  },
  {
   "cell_type": "code",
   "execution_count": 20,
   "id": "98cbe581-4bbb-4e6d-9107-b0aa66110342",
   "metadata": {},
   "outputs": [
    {
     "data": {
      "text/plain": [
       "0"
      ]
     },
     "execution_count": 20,
     "metadata": {},
     "output_type": "execute_result"
    }
   ],
   "source": [
    "df['Gender'].isnull().sum()"
   ]
  },
  {
   "cell_type": "code",
   "execution_count": 21,
   "id": "3d1a79e2-83b1-4fd6-a5bd-59429afb235a",
   "metadata": {},
   "outputs": [
    {
     "data": {
      "text/plain": [
       "Department\n",
       "it       299\n",
       "hr       297\n",
       "HR       294\n",
       "Sales    282\n",
       "Admin    270\n",
       "IT       270\n",
       "Name: count, dtype: int64"
      ]
     },
     "execution_count": 21,
     "metadata": {},
     "output_type": "execute_result"
    }
   ],
   "source": [
    "# value counts of department\n",
    "df['Department'].value_counts()"
   ]
  },
  {
   "cell_type": "code",
   "execution_count": 22,
   "id": "3962ea35-0c56-421e-82d6-7af6fc1c47e0",
   "metadata": {},
   "outputs": [],
   "source": [
    "#  Mapping department\n",
    "\n",
    "map_dep = ({ 'it':'IT' , 'hr':'HR' , 'Sales':'Sales' , 'Admin':'Admin'})\n",
    "\n",
    "df['Department'] = df['Department'].map(map_dep)"
   ]
  },
  {
   "cell_type": "code",
   "execution_count": 23,
   "id": "b37daa24-b6fb-49ad-ad49-e4cd88ff6f66",
   "metadata": {},
   "outputs": [
    {
     "data": {
      "text/plain": [
       "Department\n",
       "IT       299\n",
       "HR       297\n",
       "Sales    282\n",
       "Admin    270\n",
       "Name: count, dtype: int64"
      ]
     },
     "execution_count": 23,
     "metadata": {},
     "output_type": "execute_result"
    }
   ],
   "source": [
    "df['Department'].value_counts()"
   ]
  },
  {
   "cell_type": "code",
   "execution_count": 24,
   "id": "9723caef-4b67-4154-a633-4c4753b71523",
   "metadata": {},
   "outputs": [],
   "source": [
    "# Filling Null values with MODE\n",
    "df['Department']=df['Department'].fillna(df['Department'].mode()[0])"
   ]
  },
  {
   "cell_type": "code",
   "execution_count": 25,
   "id": "f10de14d-8ff7-40fe-b05f-401c4eb7b8d3",
   "metadata": {},
   "outputs": [
    {
     "data": {
      "text/plain": [
       "0"
      ]
     },
     "execution_count": 25,
     "metadata": {},
     "output_type": "execute_result"
    }
   ],
   "source": [
    "df['Department'].isnull().sum()"
   ]
  },
  {
   "cell_type": "code",
   "execution_count": 26,
   "id": "24e23042-3290-4f56-8eaf-4471bd588791",
   "metadata": {},
   "outputs": [
    {
     "data": {
      "text/plain": [
       "Remote Work\n",
       "no     431\n",
       "yes    400\n",
       "No     368\n",
       "Yes    368\n",
       "Name: count, dtype: int64"
      ]
     },
     "execution_count": 26,
     "metadata": {},
     "output_type": "execute_result"
    }
   ],
   "source": [
    "# Value_counts of remote works\n",
    "df['Remote Work'].value_counts()"
   ]
  },
  {
   "cell_type": "code",
   "execution_count": 27,
   "id": "38c6c5ea-3c69-4e0f-b7f9-e49e9b657729",
   "metadata": {},
   "outputs": [],
   "source": [
    "# Mapping the remote work\n",
    "map_remote = ({'no':'NO' , 'yes':'YES' ,'No':'NO' , 'Yes':'YES' })"
   ]
  },
  {
   "cell_type": "code",
   "execution_count": 28,
   "id": "76fa8029-374b-4366-9ee2-85ec8db04aa0",
   "metadata": {},
   "outputs": [],
   "source": [
    "df['Remote Work']=df['Remote Work'].map(map_remote)"
   ]
  },
  {
   "cell_type": "code",
   "execution_count": 29,
   "id": "aea45c0b-99df-43a6-93e7-3c4c3fd8393a",
   "metadata": {},
   "outputs": [
    {
     "data": {
      "text/plain": [
       "Remote Work\n",
       "NO     799\n",
       "YES    768\n",
       "Name: count, dtype: int64"
      ]
     },
     "execution_count": 29,
     "metadata": {},
     "output_type": "execute_result"
    }
   ],
   "source": [
    "df['Remote Work'].value_counts()"
   ]
  },
  {
   "cell_type": "code",
   "execution_count": 30,
   "id": "0e2ee738-01f1-41c6-a25a-78d1e700f2e7",
   "metadata": {},
   "outputs": [
    {
     "data": {
      "text/plain": [
       "0"
      ]
     },
     "execution_count": 30,
     "metadata": {},
     "output_type": "execute_result"
    }
   ],
   "source": [
    "# Filling Null Values using MODE\n",
    "df['Remote Work']=df['Remote Work'].fillna(df['Remote Work'].mode()[0])\n",
    "df['Remote Work'].isnull().sum()"
   ]
  },
  {
   "cell_type": "code",
   "execution_count": 31,
   "id": "65d09814-76b6-42c3-874c-3099f351b03b",
   "metadata": {},
   "outputs": [
    {
     "data": {
      "text/plain": [
       "340"
      ]
     },
     "execution_count": 31,
     "metadata": {},
     "output_type": "execute_result"
    }
   ],
   "source": [
    "df['Daily Work Hours'].isnull().sum()"
   ]
  },
  {
   "cell_type": "code",
   "execution_count": 32,
   "id": "5f951909-e3cd-4166-8112-4982f61faef4",
   "metadata": {},
   "outputs": [],
   "source": [
    "#Filling Null Values With Median\n",
    "df['Daily Work Hours']=df['Daily Work Hours'].fillna(df['Daily Work Hours'].median())"
   ]
  },
  {
   "cell_type": "code",
   "execution_count": 33,
   "id": "12faaa38-3589-4892-96c5-ec64433258c8",
   "metadata": {},
   "outputs": [
    {
     "data": {
      "text/plain": [
       "0"
      ]
     },
     "execution_count": 33,
     "metadata": {},
     "output_type": "execute_result"
    }
   ],
   "source": [
    "df['Daily Work Hours'].isnull().sum()"
   ]
  },
  {
   "cell_type": "code",
   "execution_count": 34,
   "id": "5f625fba-5e3f-4695-bad5-36eedf6ef559",
   "metadata": {},
   "outputs": [
    {
     "data": {
      "text/plain": [
       "Screen Time Hours\n",
       "6 hrs       414\n",
       "7           399\n",
       "10.5 hrs    374\n",
       "8           363\n",
       "Name: count, dtype: int64"
      ]
     },
     "execution_count": 34,
     "metadata": {},
     "output_type": "execute_result"
    }
   ],
   "source": [
    "# Value Counts of Screen Time\n",
    "df['Screen Time Hours'].value_counts()"
   ]
  },
  {
   "cell_type": "code",
   "execution_count": 35,
   "id": "816223fa-07a6-4d08-bc9a-b8c2c96191d7",
   "metadata": {},
   "outputs": [
    {
     "data": {
      "text/plain": [
       "dtype('O')"
      ]
     },
     "execution_count": 35,
     "metadata": {},
     "output_type": "execute_result"
    }
   ],
   "source": [
    "df['Screen Time Hours'].dtype"
   ]
  },
  {
   "cell_type": "code",
   "execution_count": 36,
   "id": "6fb8b3ff-29c6-447e-a346-5eb4b55a0380",
   "metadata": {},
   "outputs": [],
   "source": [
    "# cleaning and removing extra space and converting 'O' to 'Float'\n",
    "df['Screen Time Hours']=df['Screen Time Hours'].astype(str).str.replace(\"hrs\" , \" \").str.strip()\n",
    "df['Screen Time Hours']=df['Screen Time Hours'].astype(float)"
   ]
  },
  {
   "cell_type": "code",
   "execution_count": 37,
   "id": "22e4266c-7407-4721-9d0b-b85cf068a6a7",
   "metadata": {},
   "outputs": [
    {
     "name": "stdout",
     "output_type": "stream",
     "text": [
      "float64\n",
      "\n",
      "Screen Time Hours\n",
      "6.0     414\n",
      "7.0     399\n",
      "10.5    374\n",
      "8.0     363\n",
      "Name: count, dtype: int64\n"
     ]
    }
   ],
   "source": [
    "print(df['Screen Time Hours'].dtype)\n",
    "print()\n",
    "print(df['Screen Time Hours'].value_counts())"
   ]
  },
  {
   "cell_type": "code",
   "execution_count": 38,
   "id": "14383e86-04ef-42c2-9a7f-84ac5c0544a0",
   "metadata": {},
   "outputs": [],
   "source": [
    "#Filling Null Values With Median\n",
    "df['Screen Time Hours']=df['Screen Time Hours'].fillna(df['Screen Time Hours'].median())"
   ]
  },
  {
   "cell_type": "code",
   "execution_count": 39,
   "id": "4c0149c6-69e8-40d1-b154-ec9bb55a5960",
   "metadata": {},
   "outputs": [
    {
     "data": {
      "text/plain": [
       "0"
      ]
     },
     "execution_count": 39,
     "metadata": {},
     "output_type": "execute_result"
    }
   ],
   "source": [
    "df['Screen Time Hours'].isnull().sum()"
   ]
  },
  {
   "cell_type": "code",
   "execution_count": 40,
   "id": "ce70718c-c81e-48a9-a32f-a91b185682a8",
   "metadata": {},
   "outputs": [
    {
     "data": {
      "text/plain": [
       "Sleep Quality\n",
       "Poor    518\n",
       "Fair    498\n",
       "Good    477\n",
       "Name: count, dtype: int64"
      ]
     },
     "execution_count": 40,
     "metadata": {},
     "output_type": "execute_result"
    }
   ],
   "source": [
    "#Value Counts of Sleep Quality\n",
    "df['Sleep Quality'].value_counts()"
   ]
  },
  {
   "cell_type": "code",
   "execution_count": 41,
   "id": "89cde4db-c9ad-4121-bcc9-4fdc710d5411",
   "metadata": {},
   "outputs": [
    {
     "data": {
      "text/plain": [
       "507"
      ]
     },
     "execution_count": 41,
     "metadata": {},
     "output_type": "execute_result"
    }
   ],
   "source": [
    "# checking null values\n",
    "df['Sleep Quality'].isnull().sum()"
   ]
  },
  {
   "cell_type": "code",
   "execution_count": 42,
   "id": "55a9cbe9-3159-4fc1-843c-a19ee04c176f",
   "metadata": {},
   "outputs": [],
   "source": [
    "#Filling Null Values With Mode\n",
    "df['Sleep Quality']=df['Sleep Quality'].fillna(df['Sleep Quality'].mode()[0])"
   ]
  },
  {
   "cell_type": "code",
   "execution_count": 43,
   "id": "e27f9a79-1fef-4805-87b4-dbfdfc9543a5",
   "metadata": {},
   "outputs": [
    {
     "data": {
      "text/plain": [
       "0"
      ]
     },
     "execution_count": 43,
     "metadata": {},
     "output_type": "execute_result"
    }
   ],
   "source": [
    "df['Sleep Quality'].isnull().sum()"
   ]
  },
  {
   "cell_type": "code",
   "execution_count": 44,
   "id": "40e678e5-df77-4506-bf5a-a38e344ef5bc",
   "metadata": {},
   "outputs": [
    {
     "data": {
      "text/plain": [
       "Index(['Employee Id', 'Age', 'Gender', 'Department', 'Remote Work',\n",
       "       'Daily Work Hours', 'Screen Time Hours', 'Sleep Quality',\n",
       "       'Physical Activity Level', 'Burnout Score', 'Stress Level',\n",
       "       'Coffee Intake Per Day', 'Meeting Hours Per Day', 'Internet Speed Mbps',\n",
       "       'Device Type', 'Noise Level', 'Mood', 'Commute Hours Preremote',\n",
       "       'Work Engagement Score', 'Weekly Mental Breaks'],\n",
       "      dtype='object')"
      ]
     },
     "execution_count": 44,
     "metadata": {},
     "output_type": "execute_result"
    }
   ],
   "source": [
    "df.columns"
   ]
  },
  {
   "cell_type": "code",
   "execution_count": 45,
   "id": "36c9616b-3006-41ef-8ee1-c7c023d9efea",
   "metadata": {},
   "outputs": [
    {
     "data": {
      "text/plain": [
       "Physical Activity Level\n",
       "High      537\n",
       "Medium    496\n",
       "Low       490\n",
       "Name: count, dtype: int64"
      ]
     },
     "execution_count": 45,
     "metadata": {},
     "output_type": "execute_result"
    }
   ],
   "source": [
    "#Value Counts of Physical Activity Level\n",
    "df['Physical Activity Level'].value_counts()"
   ]
  },
  {
   "cell_type": "code",
   "execution_count": 46,
   "id": "515fb020-dd08-4f0f-be5e-a60f8b5a7467",
   "metadata": {},
   "outputs": [],
   "source": [
    "#Filling Null Values With Mode\n",
    "df['Physical Activity Level'] = df['Physical Activity Level'].fillna(df['Physical Activity Level'].mode()[0])"
   ]
  },
  {
   "cell_type": "code",
   "execution_count": 47,
   "id": "1781e2a1-a3c7-480d-b40d-342363710df8",
   "metadata": {},
   "outputs": [
    {
     "data": {
      "text/plain": [
       "0"
      ]
     },
     "execution_count": 47,
     "metadata": {},
     "output_type": "execute_result"
    }
   ],
   "source": [
    "df['Physical Activity Level'].isnull().sum()"
   ]
  },
  {
   "cell_type": "code",
   "execution_count": 48,
   "id": "3d7fcca8-aa85-48cb-ac67-8d2bc5b59342",
   "metadata": {},
   "outputs": [
    {
     "data": {
      "text/plain": [
       "0"
      ]
     },
     "execution_count": 48,
     "metadata": {},
     "output_type": "execute_result"
    }
   ],
   "source": [
    "# NO Null Values\n",
    "df['Burnout Score'].isnull().sum()\n",
    "#Burnout Score = measures how mentally and emotionally exhausted an employee feels due to work."
   ]
  },
  {
   "cell_type": "code",
   "execution_count": 49,
   "id": "ace35518-b29a-4776-9af7-4bb5a062fde5",
   "metadata": {},
   "outputs": [
    {
     "data": {
      "text/plain": [
       "count    2000.000000\n",
       "mean        5.034570\n",
       "std         1.967606\n",
       "min        -1.530000\n",
       "25%         3.660000\n",
       "50%         5.045000\n",
       "75%         6.390000\n",
       "max        12.810000\n",
       "Name: Burnout Score, dtype: float64"
      ]
     },
     "execution_count": 49,
     "metadata": {},
     "output_type": "execute_result"
    }
   ],
   "source": [
    "df['Burnout Score'].describe()"
   ]
  },
  {
   "cell_type": "code",
   "execution_count": 50,
   "id": "a8e2bcc1-0a33-40fa-855a-5a77bc063a79",
   "metadata": {},
   "outputs": [],
   "source": [
    "df = df[(df['Burnout Score'] >= 0) & (df['Burnout Score'] <= 10)]"
   ]
  },
  {
   "cell_type": "code",
   "execution_count": 51,
   "id": "99801847-4355-4d32-b20a-11d37496ad44",
   "metadata": {},
   "outputs": [
    {
     "data": {
      "text/plain": [
       "count    1979.000000\n",
       "mean        5.038166\n",
       "std         1.885940\n",
       "min         0.000000\n",
       "25%         3.680000\n",
       "50%         5.050000\n",
       "75%         6.375000\n",
       "max         9.950000\n",
       "Name: Burnout Score, dtype: float64"
      ]
     },
     "execution_count": 51,
     "metadata": {},
     "output_type": "execute_result"
    }
   ],
   "source": [
    "df['Burnout Score'].describe()"
   ]
  },
  {
   "cell_type": "code",
   "execution_count": 52,
   "id": "a656b7f8-0442-4dc5-a814-4f27704f6caa",
   "metadata": {},
   "outputs": [
    {
     "data": {
      "text/plain": [
       "Index(['Employee Id', 'Age', 'Gender', 'Department', 'Remote Work',\n",
       "       'Daily Work Hours', 'Screen Time Hours', 'Sleep Quality',\n",
       "       'Physical Activity Level', 'Burnout Score', 'Stress Level',\n",
       "       'Coffee Intake Per Day', 'Meeting Hours Per Day', 'Internet Speed Mbps',\n",
       "       'Device Type', 'Noise Level', 'Mood', 'Commute Hours Preremote',\n",
       "       'Work Engagement Score', 'Weekly Mental Breaks'],\n",
       "      dtype='object')"
      ]
     },
     "execution_count": 52,
     "metadata": {},
     "output_type": "execute_result"
    }
   ],
   "source": [
    "df.columns"
   ]
  },
  {
   "cell_type": "code",
   "execution_count": 53,
   "id": "1fdee190-29db-4bd5-bc01-f52e2d0977e4",
   "metadata": {},
   "outputs": [
    {
     "data": {
      "text/plain": [
       "462"
      ]
     },
     "execution_count": 53,
     "metadata": {},
     "output_type": "execute_result"
    }
   ],
   "source": [
    "# Checking Null Values\n",
    "df['Stress Level'].isnull().sum()"
   ]
  },
  {
   "cell_type": "code",
   "execution_count": 54,
   "id": "b1421f16-4490-4672-897f-bd6bea106687",
   "metadata": {},
   "outputs": [
    {
     "data": {
      "text/plain": [
       "Stress Level\n",
       "Medium    529\n",
       "High      497\n",
       "Low       491\n",
       "Name: count, dtype: int64"
      ]
     },
     "execution_count": 54,
     "metadata": {},
     "output_type": "execute_result"
    }
   ],
   "source": [
    "# Value_counts \n",
    "df['Stress Level'].value_counts()"
   ]
  },
  {
   "cell_type": "code",
   "execution_count": 55,
   "id": "40900501-33a3-4e9d-8fc4-2afbf0ac4bac",
   "metadata": {},
   "outputs": [],
   "source": [
    "# filling null with mode \n",
    "df['Stress Level']=df['Stress Level'].fillna(df['Stress Level'].mode()[0])"
   ]
  },
  {
   "cell_type": "code",
   "execution_count": 56,
   "id": "eba8b7b4-5d33-48a7-9256-da05b1fa1358",
   "metadata": {},
   "outputs": [
    {
     "data": {
      "text/plain": [
       "0"
      ]
     },
     "execution_count": 56,
     "metadata": {},
     "output_type": "execute_result"
    }
   ],
   "source": [
    "df['Stress Level'].isnull().sum()"
   ]
  },
  {
   "cell_type": "code",
   "execution_count": 57,
   "id": "6fbd491c-f2b8-457f-8bfc-dc129fc3643d",
   "metadata": {},
   "outputs": [
    {
     "data": {
      "text/plain": [
       "325"
      ]
     },
     "execution_count": 57,
     "metadata": {},
     "output_type": "execute_result"
    }
   ],
   "source": [
    "# Checking Null Values\n",
    "df['Coffee Intake Per Day'].isnull().sum()"
   ]
  },
  {
   "cell_type": "code",
   "execution_count": 58,
   "id": "41d7029f-eb66-48f7-93e6-f0a2c13a8fc6",
   "metadata": {},
   "outputs": [
    {
     "data": {
      "text/plain": [
       "Coffee Intake Per Day\n",
       "3.0    371\n",
       "0.0    326\n",
       "4.0    323\n",
       "1.0    322\n",
       "2.0    312\n",
       "Name: count, dtype: int64"
      ]
     },
     "execution_count": 58,
     "metadata": {},
     "output_type": "execute_result"
    }
   ],
   "source": [
    "# Value_counts \n",
    "df['Coffee Intake Per Day'].value_counts()"
   ]
  },
  {
   "cell_type": "code",
   "execution_count": 59,
   "id": "e0a048f2-8bea-4fe6-b070-432f82899bea",
   "metadata": {},
   "outputs": [],
   "source": [
    "# filling null with median (numerical_value)\n",
    "df['Coffee Intake Per Day']=df['Coffee Intake Per Day'].fillna(df['Coffee Intake Per Day'].median())"
   ]
  },
  {
   "cell_type": "code",
   "execution_count": 60,
   "id": "7abeab5b-b916-456c-b21a-f8a890c0c15d",
   "metadata": {},
   "outputs": [
    {
     "data": {
      "text/plain": [
       "0"
      ]
     },
     "execution_count": 60,
     "metadata": {},
     "output_type": "execute_result"
    }
   ],
   "source": [
    "df['Coffee Intake Per Day'].isnull().sum()"
   ]
  },
  {
   "cell_type": "code",
   "execution_count": 61,
   "id": "df03d1ea-8619-4362-833a-a9a9cc8d710e",
   "metadata": {},
   "outputs": [
    {
     "data": {
      "text/plain": [
       "295"
      ]
     },
     "execution_count": 61,
     "metadata": {},
     "output_type": "execute_result"
    }
   ],
   "source": [
    "# Checking Null Values\n",
    "df['Meeting Hours Per Day'].isnull().sum()"
   ]
  },
  {
   "cell_type": "code",
   "execution_count": 62,
   "id": "f870d001-38d7-495f-aff7-477915bb4fd6",
   "metadata": {},
   "outputs": [
    {
     "data": {
      "text/plain": [
       "Meeting Hours Per Day\n",
       "6.0    328\n",
       "1.0    291\n",
       "2.0    274\n",
       "3.0    272\n",
       "5.0    261\n",
       "4.0    258\n",
       "Name: count, dtype: int64"
      ]
     },
     "execution_count": 62,
     "metadata": {},
     "output_type": "execute_result"
    }
   ],
   "source": [
    "# value_counts\n",
    "df['Meeting Hours Per Day'].value_counts()"
   ]
  },
  {
   "cell_type": "code",
   "execution_count": null,
   "id": "56995112-0e1d-4838-81bb-f2d02eb4b887",
   "metadata": {},
   "outputs": [],
   "source": []
  },
  {
   "cell_type": "code",
   "execution_count": null,
   "id": "421dd5e5-e582-4d48-a5d1-c3a0ace2651c",
   "metadata": {},
   "outputs": [],
   "source": []
  },
  {
   "cell_type": "code",
   "execution_count": 63,
   "id": "df761f7b-8c8c-4bb7-8dc6-9da55c1952ab",
   "metadata": {},
   "outputs": [],
   "source": [
    "# filling null with median (numerical_value)\n",
    "df['Meeting Hours Per Day']=df['Meeting Hours Per Day'].fillna(df['Meeting Hours Per Day'].median())"
   ]
  },
  {
   "cell_type": "code",
   "execution_count": 64,
   "id": "47f1b76d-a448-43b5-bd4a-404f69241831",
   "metadata": {},
   "outputs": [
    {
     "data": {
      "text/plain": [
       "0"
      ]
     },
     "execution_count": 64,
     "metadata": {},
     "output_type": "execute_result"
    }
   ],
   "source": [
    "df['Meeting Hours Per Day'].isnull().sum()"
   ]
  },
  {
   "cell_type": "code",
   "execution_count": 65,
   "id": "a70ceb4a-7a0f-416a-9465-79e4d4664162",
   "metadata": {},
   "outputs": [
    {
     "data": {
      "text/plain": [
       "337"
      ]
     },
     "execution_count": 65,
     "metadata": {},
     "output_type": "execute_result"
    }
   ],
   "source": [
    "# Checking Null Values\n",
    "df['Internet Speed Mbps'].isnull().sum()"
   ]
  },
  {
   "cell_type": "code",
   "execution_count": 66,
   "id": "435ad945-6bf9-4161-b20f-e44198e62010",
   "metadata": {},
   "outputs": [
    {
     "data": {
      "text/plain": [
       "Internet Speed Mbps\n",
       "100.0    369\n",
       "10.0     329\n",
       "20.0     322\n",
       "50.0     314\n",
       "150.0    308\n",
       "Name: count, dtype: int64"
      ]
     },
     "execution_count": 66,
     "metadata": {},
     "output_type": "execute_result"
    }
   ],
   "source": [
    "# value_counts\n",
    "df['Internet Speed Mbps'].value_counts()"
   ]
  },
  {
   "cell_type": "code",
   "execution_count": 67,
   "id": "39b4ccdc-add4-4271-bd20-f9cc020a2110",
   "metadata": {},
   "outputs": [],
   "source": [
    "# filling null with median (numerical_value)\n",
    "df['Internet Speed Mbps']=df['Internet Speed Mbps'].fillna(df['Internet Speed Mbps'].median())"
   ]
  },
  {
   "cell_type": "code",
   "execution_count": 68,
   "id": "d78eedad-7650-4915-9954-88884474dfe3",
   "metadata": {},
   "outputs": [
    {
     "data": {
      "text/plain": [
       "0"
      ]
     },
     "execution_count": 68,
     "metadata": {},
     "output_type": "execute_result"
    }
   ],
   "source": [
    "df['Internet Speed Mbps'].isnull().sum()"
   ]
  },
  {
   "cell_type": "code",
   "execution_count": 69,
   "id": "267612dc-6495-4d3e-8712-936778a13e07",
   "metadata": {},
   "outputs": [
    {
     "data": {
      "text/plain": [
       "509"
      ]
     },
     "execution_count": 69,
     "metadata": {},
     "output_type": "execute_result"
    }
   ],
   "source": [
    "# Checking Null Values\n",
    "df['Device Type'].isnull().sum()"
   ]
  },
  {
   "cell_type": "code",
   "execution_count": 70,
   "id": "87f776b1-0b02-43b5-86ea-fde0b0da6808",
   "metadata": {},
   "outputs": [
    {
     "data": {
      "text/plain": [
       "Device Type\n",
       "Desktop    500\n",
       "Mobile     490\n",
       "Laptop     480\n",
       "Name: count, dtype: int64"
      ]
     },
     "execution_count": 70,
     "metadata": {},
     "output_type": "execute_result"
    }
   ],
   "source": [
    "# value_counts\n",
    "df['Device Type'].value_counts()"
   ]
  },
  {
   "cell_type": "code",
   "execution_count": 71,
   "id": "0a8a53cf-9a47-4b5d-a9f0-183fb69b4f09",
   "metadata": {},
   "outputs": [],
   "source": [
    "# filling null with mode (categorical value)\n",
    "df['Device Type']=df['Device Type'].fillna(df['Device Type'].mode()[0])"
   ]
  },
  {
   "cell_type": "code",
   "execution_count": 72,
   "id": "13ed724a-5189-4b49-a11d-d91e4bfd32d3",
   "metadata": {},
   "outputs": [
    {
     "data": {
      "text/plain": [
       "0"
      ]
     },
     "execution_count": 72,
     "metadata": {},
     "output_type": "execute_result"
    }
   ],
   "source": [
    "df['Device Type'].isnull().sum()"
   ]
  },
  {
   "cell_type": "code",
   "execution_count": 73,
   "id": "ea361a7b-a838-44ce-9e58-cf6748e73e20",
   "metadata": {},
   "outputs": [
    {
     "data": {
      "text/plain": [
       "488"
      ]
     },
     "execution_count": 73,
     "metadata": {},
     "output_type": "execute_result"
    }
   ],
   "source": [
    "# Checking Null Values\n",
    "df['Noise Level'].isnull().sum()"
   ]
  },
  {
   "cell_type": "code",
   "execution_count": 74,
   "id": "7027e3bf-2070-4ba4-8184-6b9e71be046c",
   "metadata": {},
   "outputs": [
    {
     "data": {
      "text/plain": [
       "Noise Level\n",
       "Medium    528\n",
       "Low       484\n",
       "High      479\n",
       "Name: count, dtype: int64"
      ]
     },
     "execution_count": 74,
     "metadata": {},
     "output_type": "execute_result"
    }
   ],
   "source": [
    "# value_counts\n",
    "df['Noise Level'].value_counts()"
   ]
  },
  {
   "cell_type": "code",
   "execution_count": 75,
   "id": "1a3128f6-da52-4b21-95fb-5cc2e99fb267",
   "metadata": {},
   "outputs": [],
   "source": [
    "# filling null with mode (categorical value)\n",
    "df['Noise Level']=df['Noise Level'].fillna(df['Noise Level'].mode()[0])"
   ]
  },
  {
   "cell_type": "code",
   "execution_count": 76,
   "id": "4cc88283-b011-4185-94b1-462f682899ca",
   "metadata": {},
   "outputs": [
    {
     "data": {
      "text/plain": [
       "0"
      ]
     },
     "execution_count": 76,
     "metadata": {},
     "output_type": "execute_result"
    }
   ],
   "source": [
    "df['Noise Level'].isnull().sum()"
   ]
  },
  {
   "cell_type": "code",
   "execution_count": 77,
   "id": "cfddf6d9-3751-4cbe-94ec-69cc2e8667fc",
   "metadata": {},
   "outputs": [
    {
     "data": {
      "text/plain": [
       "374"
      ]
     },
     "execution_count": 77,
     "metadata": {},
     "output_type": "execute_result"
    }
   ],
   "source": [
    "# Checking Null Values\n",
    "df['Mood'].isnull().sum()"
   ]
  },
  {
   "cell_type": "code",
   "execution_count": 78,
   "id": "47e19d81-a94c-49a1-b82d-d5a5a2692dfe",
   "metadata": {},
   "outputs": [
    {
     "data": {
      "text/plain": [
       "Mood\n",
       "Tired       425\n",
       "Calm        412\n",
       "Stressed    398\n",
       "Happy       370\n",
       "Name: count, dtype: int64"
      ]
     },
     "execution_count": 78,
     "metadata": {},
     "output_type": "execute_result"
    }
   ],
   "source": [
    "#value_counts\n",
    "df['Mood'].value_counts()"
   ]
  },
  {
   "cell_type": "code",
   "execution_count": 79,
   "id": "3ab9c151-0305-48b1-af95-8df07896f426",
   "metadata": {},
   "outputs": [],
   "source": [
    "# filling null with mode (categorical value)\n",
    "df['Mood']=df['Mood'].fillna(df['Mood'].mode()[0])"
   ]
  },
  {
   "cell_type": "code",
   "execution_count": 80,
   "id": "a1ed300d-945b-40d0-9713-8547934cf040",
   "metadata": {},
   "outputs": [
    {
     "data": {
      "text/plain": [
       "0"
      ]
     },
     "execution_count": 80,
     "metadata": {},
     "output_type": "execute_result"
    }
   ],
   "source": [
    "df['Mood'].isnull().sum()"
   ]
  },
  {
   "cell_type": "code",
   "execution_count": 81,
   "id": "b81917c0-e585-4536-815a-43975a44757d",
   "metadata": {},
   "outputs": [
    {
     "data": {
      "text/plain": [
       "280"
      ]
     },
     "execution_count": 81,
     "metadata": {},
     "output_type": "execute_result"
    }
   ],
   "source": [
    "# Checking Null Values\n",
    "df['Commute Hours Preremote'].isnull().sum()"
   ]
  },
  {
   "cell_type": "code",
   "execution_count": 82,
   "id": "af2e0bfa-f8f0-4458-a2e1-c60e6bb40b36",
   "metadata": {},
   "outputs": [
    {
     "data": {
      "text/plain": [
       "Commute Hours Preremote\n",
       "4.0    290\n",
       "2.0    289\n",
       "1.0    288\n",
       "5.0    283\n",
       "3.0    275\n",
       "0.0    274\n",
       "Name: count, dtype: int64"
      ]
     },
     "execution_count": 82,
     "metadata": {},
     "output_type": "execute_result"
    }
   ],
   "source": [
    "# value_counts\n",
    "df['Commute Hours Preremote'].value_counts()"
   ]
  },
  {
   "cell_type": "code",
   "execution_count": 83,
   "id": "a1955db0-ed77-44b0-8aed-9016eb623e4b",
   "metadata": {},
   "outputs": [],
   "source": [
    "# filling null with median (numerical_value)\n",
    "df['Commute Hours Preremote']=df['Commute Hours Preremote'].fillna(df['Commute Hours Preremote'].median())"
   ]
  },
  {
   "cell_type": "code",
   "execution_count": 84,
   "id": "f6a09f30-1000-4e94-81c5-51b915e81731",
   "metadata": {},
   "outputs": [
    {
     "data": {
      "text/plain": [
       "0"
      ]
     },
     "execution_count": 84,
     "metadata": {},
     "output_type": "execute_result"
    }
   ],
   "source": [
    "df['Commute Hours Preremote'].isnull().sum()"
   ]
  },
  {
   "cell_type": "code",
   "execution_count": 85,
   "id": "fac80cc0-f072-4ae4-960d-e8a3da213d3e",
   "metadata": {},
   "outputs": [
    {
     "data": {
      "text/plain": [
       "Index(['Employee Id', 'Age', 'Gender', 'Department', 'Remote Work',\n",
       "       'Daily Work Hours', 'Screen Time Hours', 'Sleep Quality',\n",
       "       'Physical Activity Level', 'Burnout Score', 'Stress Level',\n",
       "       'Coffee Intake Per Day', 'Meeting Hours Per Day', 'Internet Speed Mbps',\n",
       "       'Device Type', 'Noise Level', 'Mood', 'Commute Hours Preremote',\n",
       "       'Work Engagement Score', 'Weekly Mental Breaks'],\n",
       "      dtype='object')"
      ]
     },
     "execution_count": 85,
     "metadata": {},
     "output_type": "execute_result"
    }
   ],
   "source": [
    "df.columns"
   ]
  },
  {
   "cell_type": "code",
   "execution_count": 86,
   "id": "430404db-729c-4347-81c1-536c5883d8e5",
   "metadata": {},
   "outputs": [
    {
     "data": {
      "text/plain": [
       "0"
      ]
     },
     "execution_count": 86,
     "metadata": {},
     "output_type": "execute_result"
    }
   ],
   "source": [
    "# checking null Values\n",
    "df['Work Engagement Score'].isnull().sum()"
   ]
  },
  {
   "cell_type": "code",
   "execution_count": 87,
   "id": "0bded07a-6240-43c8-ae6b-f8ec21346c1e",
   "metadata": {},
   "outputs": [
    {
     "data": {
      "text/plain": [
       "296"
      ]
     },
     "execution_count": 87,
     "metadata": {},
     "output_type": "execute_result"
    }
   ],
   "source": [
    "# checking null Values\n",
    "df['Weekly Mental Breaks'].isnull().sum()"
   ]
  },
  {
   "cell_type": "code",
   "execution_count": 88,
   "id": "089338cc-5990-4852-8d1f-500732d0f6ef",
   "metadata": {},
   "outputs": [],
   "source": [
    "# filling null with median (numerical_value)\n",
    "df['Weekly Mental Breaks']=df['Weekly Mental Breaks'].fillna(df['Weekly Mental Breaks'].median())"
   ]
  },
  {
   "cell_type": "code",
   "execution_count": 89,
   "id": "605e4714-c359-4ad6-a7fd-e3d030af4ff2",
   "metadata": {},
   "outputs": [
    {
     "data": {
      "text/plain": [
       "0"
      ]
     },
     "execution_count": 89,
     "metadata": {},
     "output_type": "execute_result"
    }
   ],
   "source": [
    "df['Weekly Mental Breaks'].isnull().sum()"
   ]
  },
  {
   "cell_type": "code",
   "execution_count": 90,
   "id": "1eb8b80e-3869-4aa8-bcba-cc0a004f8e10",
   "metadata": {},
   "outputs": [
    {
     "data": {
      "text/html": [
       "<div>\n",
       "<style scoped>\n",
       "    .dataframe tbody tr th:only-of-type {\n",
       "        vertical-align: middle;\n",
       "    }\n",
       "\n",
       "    .dataframe tbody tr th {\n",
       "        vertical-align: top;\n",
       "    }\n",
       "\n",
       "    .dataframe thead th {\n",
       "        text-align: right;\n",
       "    }\n",
       "</style>\n",
       "<table border=\"1\" class=\"dataframe\">\n",
       "  <thead>\n",
       "    <tr style=\"text-align: right;\">\n",
       "      <th></th>\n",
       "      <th>Employee Id</th>\n",
       "      <th>Age</th>\n",
       "      <th>Gender</th>\n",
       "      <th>Department</th>\n",
       "      <th>Remote Work</th>\n",
       "      <th>Daily Work Hours</th>\n",
       "      <th>Screen Time Hours</th>\n",
       "      <th>Sleep Quality</th>\n",
       "      <th>Physical Activity Level</th>\n",
       "      <th>Burnout Score</th>\n",
       "      <th>Stress Level</th>\n",
       "      <th>Coffee Intake Per Day</th>\n",
       "      <th>Meeting Hours Per Day</th>\n",
       "      <th>Internet Speed Mbps</th>\n",
       "      <th>Device Type</th>\n",
       "      <th>Noise Level</th>\n",
       "      <th>Mood</th>\n",
       "      <th>Commute Hours Preremote</th>\n",
       "      <th>Work Engagement Score</th>\n",
       "      <th>Weekly Mental Breaks</th>\n",
       "    </tr>\n",
       "  </thead>\n",
       "  <tbody>\n",
       "    <tr>\n",
       "      <th>0</th>\n",
       "      <td>E001</td>\n",
       "      <td>48</td>\n",
       "      <td>Male</td>\n",
       "      <td>Sales</td>\n",
       "      <td>YES</td>\n",
       "      <td>12.0</td>\n",
       "      <td>8.0</td>\n",
       "      <td>Poor</td>\n",
       "      <td>High</td>\n",
       "      <td>6.07</td>\n",
       "      <td>Medium</td>\n",
       "      <td>0.0</td>\n",
       "      <td>4.0</td>\n",
       "      <td>20.0</td>\n",
       "      <td>Desktop</td>\n",
       "      <td>Medium</td>\n",
       "      <td>Stressed</td>\n",
       "      <td>4.0</td>\n",
       "      <td>12.71</td>\n",
       "      <td>0.0</td>\n",
       "    </tr>\n",
       "    <tr>\n",
       "      <th>1</th>\n",
       "      <td>E003</td>\n",
       "      <td>32</td>\n",
       "      <td>Male</td>\n",
       "      <td>HR</td>\n",
       "      <td>NO</td>\n",
       "      <td>10.0</td>\n",
       "      <td>7.0</td>\n",
       "      <td>Poor</td>\n",
       "      <td>High</td>\n",
       "      <td>5.68</td>\n",
       "      <td>High</td>\n",
       "      <td>4.0</td>\n",
       "      <td>4.0</td>\n",
       "      <td>10.0</td>\n",
       "      <td>Mobile</td>\n",
       "      <td>Low</td>\n",
       "      <td>Tired</td>\n",
       "      <td>0.0</td>\n",
       "      <td>3.85</td>\n",
       "      <td>5.0</td>\n",
       "    </tr>\n",
       "    <tr>\n",
       "      <th>2</th>\n",
       "      <td>E001</td>\n",
       "      <td>22</td>\n",
       "      <td>Male</td>\n",
       "      <td>Admin</td>\n",
       "      <td>NO</td>\n",
       "      <td>6.0</td>\n",
       "      <td>7.0</td>\n",
       "      <td>Good</td>\n",
       "      <td>Low</td>\n",
       "      <td>4.33</td>\n",
       "      <td>Medium</td>\n",
       "      <td>0.0</td>\n",
       "      <td>1.0</td>\n",
       "      <td>50.0</td>\n",
       "      <td>Desktop</td>\n",
       "      <td>Medium</td>\n",
       "      <td>Happy</td>\n",
       "      <td>0.0</td>\n",
       "      <td>4.75</td>\n",
       "      <td>3.0</td>\n",
       "    </tr>\n",
       "    <tr>\n",
       "      <th>3</th>\n",
       "      <td>E001</td>\n",
       "      <td>34</td>\n",
       "      <td>Male</td>\n",
       "      <td>IT</td>\n",
       "      <td>NO</td>\n",
       "      <td>6.0</td>\n",
       "      <td>10.5</td>\n",
       "      <td>Fair</td>\n",
       "      <td>Medium</td>\n",
       "      <td>5.57</td>\n",
       "      <td>Medium</td>\n",
       "      <td>2.0</td>\n",
       "      <td>1.0</td>\n",
       "      <td>150.0</td>\n",
       "      <td>Desktop</td>\n",
       "      <td>Medium</td>\n",
       "      <td>Tired</td>\n",
       "      <td>1.0</td>\n",
       "      <td>7.63</td>\n",
       "      <td>2.0</td>\n",
       "    </tr>\n",
       "    <tr>\n",
       "      <th>4</th>\n",
       "      <td>E001</td>\n",
       "      <td>51</td>\n",
       "      <td>Male</td>\n",
       "      <td>Sales</td>\n",
       "      <td>NO</td>\n",
       "      <td>12.0</td>\n",
       "      <td>10.5</td>\n",
       "      <td>Poor</td>\n",
       "      <td>High</td>\n",
       "      <td>6.96</td>\n",
       "      <td>Low</td>\n",
       "      <td>2.0</td>\n",
       "      <td>2.0</td>\n",
       "      <td>10.0</td>\n",
       "      <td>Mobile</td>\n",
       "      <td>Low</td>\n",
       "      <td>Tired</td>\n",
       "      <td>5.0</td>\n",
       "      <td>5.60</td>\n",
       "      <td>0.0</td>\n",
       "    </tr>\n",
       "    <tr>\n",
       "      <th>...</th>\n",
       "      <td>...</td>\n",
       "      <td>...</td>\n",
       "      <td>...</td>\n",
       "      <td>...</td>\n",
       "      <td>...</td>\n",
       "      <td>...</td>\n",
       "      <td>...</td>\n",
       "      <td>...</td>\n",
       "      <td>...</td>\n",
       "      <td>...</td>\n",
       "      <td>...</td>\n",
       "      <td>...</td>\n",
       "      <td>...</td>\n",
       "      <td>...</td>\n",
       "      <td>...</td>\n",
       "      <td>...</td>\n",
       "      <td>...</td>\n",
       "      <td>...</td>\n",
       "      <td>...</td>\n",
       "      <td>...</td>\n",
       "    </tr>\n",
       "    <tr>\n",
       "      <th>1995</th>\n",
       "      <td>E004</td>\n",
       "      <td>22</td>\n",
       "      <td>Male</td>\n",
       "      <td>Admin</td>\n",
       "      <td>YES</td>\n",
       "      <td>10.0</td>\n",
       "      <td>7.0</td>\n",
       "      <td>Poor</td>\n",
       "      <td>Medium</td>\n",
       "      <td>4.64</td>\n",
       "      <td>Medium</td>\n",
       "      <td>4.0</td>\n",
       "      <td>4.0</td>\n",
       "      <td>50.0</td>\n",
       "      <td>Laptop</td>\n",
       "      <td>Medium</td>\n",
       "      <td>Calm</td>\n",
       "      <td>5.0</td>\n",
       "      <td>5.79</td>\n",
       "      <td>2.0</td>\n",
       "    </tr>\n",
       "    <tr>\n",
       "      <th>1996</th>\n",
       "      <td>E001</td>\n",
       "      <td>34</td>\n",
       "      <td>Male</td>\n",
       "      <td>IT</td>\n",
       "      <td>YES</td>\n",
       "      <td>12.0</td>\n",
       "      <td>7.0</td>\n",
       "      <td>Fair</td>\n",
       "      <td>High</td>\n",
       "      <td>2.96</td>\n",
       "      <td>High</td>\n",
       "      <td>4.0</td>\n",
       "      <td>4.0</td>\n",
       "      <td>100.0</td>\n",
       "      <td>Mobile</td>\n",
       "      <td>Medium</td>\n",
       "      <td>Tired</td>\n",
       "      <td>5.0</td>\n",
       "      <td>3.02</td>\n",
       "      <td>1.0</td>\n",
       "    </tr>\n",
       "    <tr>\n",
       "      <th>1997</th>\n",
       "      <td>E002</td>\n",
       "      <td>35</td>\n",
       "      <td>Male</td>\n",
       "      <td>HR</td>\n",
       "      <td>NO</td>\n",
       "      <td>12.0</td>\n",
       "      <td>6.0</td>\n",
       "      <td>Poor</td>\n",
       "      <td>Medium</td>\n",
       "      <td>8.89</td>\n",
       "      <td>Medium</td>\n",
       "      <td>1.0</td>\n",
       "      <td>2.0</td>\n",
       "      <td>50.0</td>\n",
       "      <td>Laptop</td>\n",
       "      <td>High</td>\n",
       "      <td>Stressed</td>\n",
       "      <td>5.0</td>\n",
       "      <td>7.72</td>\n",
       "      <td>0.0</td>\n",
       "    </tr>\n",
       "    <tr>\n",
       "      <th>1998</th>\n",
       "      <td>E005</td>\n",
       "      <td>54</td>\n",
       "      <td>Female</td>\n",
       "      <td>IT</td>\n",
       "      <td>NO</td>\n",
       "      <td>12.0</td>\n",
       "      <td>10.5</td>\n",
       "      <td>Poor</td>\n",
       "      <td>Medium</td>\n",
       "      <td>5.63</td>\n",
       "      <td>Low</td>\n",
       "      <td>4.0</td>\n",
       "      <td>4.0</td>\n",
       "      <td>10.0</td>\n",
       "      <td>Desktop</td>\n",
       "      <td>Medium</td>\n",
       "      <td>Stressed</td>\n",
       "      <td>1.0</td>\n",
       "      <td>3.36</td>\n",
       "      <td>2.0</td>\n",
       "    </tr>\n",
       "    <tr>\n",
       "      <th>1999</th>\n",
       "      <td>E003</td>\n",
       "      <td>23</td>\n",
       "      <td>Male</td>\n",
       "      <td>IT</td>\n",
       "      <td>NO</td>\n",
       "      <td>6.0</td>\n",
       "      <td>6.0</td>\n",
       "      <td>Good</td>\n",
       "      <td>Low</td>\n",
       "      <td>4.15</td>\n",
       "      <td>Medium</td>\n",
       "      <td>2.0</td>\n",
       "      <td>6.0</td>\n",
       "      <td>50.0</td>\n",
       "      <td>Laptop</td>\n",
       "      <td>Low</td>\n",
       "      <td>Happy</td>\n",
       "      <td>0.0</td>\n",
       "      <td>7.83</td>\n",
       "      <td>0.0</td>\n",
       "    </tr>\n",
       "  </tbody>\n",
       "</table>\n",
       "<p>1979 rows × 20 columns</p>\n",
       "</div>"
      ],
      "text/plain": [
       "     Employee Id  Age  Gender Department Remote Work  Daily Work Hours  \\\n",
       "0           E001   48    Male      Sales         YES              12.0   \n",
       "1           E003   32    Male         HR          NO              10.0   \n",
       "2           E001   22    Male      Admin          NO               6.0   \n",
       "3           E001   34    Male         IT          NO               6.0   \n",
       "4           E001   51    Male      Sales          NO              12.0   \n",
       "...          ...  ...     ...        ...         ...               ...   \n",
       "1995        E004   22    Male      Admin         YES              10.0   \n",
       "1996        E001   34    Male         IT         YES              12.0   \n",
       "1997        E002   35    Male         HR          NO              12.0   \n",
       "1998        E005   54  Female         IT          NO              12.0   \n",
       "1999        E003   23    Male         IT          NO               6.0   \n",
       "\n",
       "      Screen Time Hours Sleep Quality Physical Activity Level  Burnout Score  \\\n",
       "0                   8.0          Poor                    High           6.07   \n",
       "1                   7.0          Poor                    High           5.68   \n",
       "2                   7.0          Good                     Low           4.33   \n",
       "3                  10.5          Fair                  Medium           5.57   \n",
       "4                  10.5          Poor                    High           6.96   \n",
       "...                 ...           ...                     ...            ...   \n",
       "1995                7.0          Poor                  Medium           4.64   \n",
       "1996                7.0          Fair                    High           2.96   \n",
       "1997                6.0          Poor                  Medium           8.89   \n",
       "1998               10.5          Poor                  Medium           5.63   \n",
       "1999                6.0          Good                     Low           4.15   \n",
       "\n",
       "     Stress Level  Coffee Intake Per Day  Meeting Hours Per Day  \\\n",
       "0          Medium                    0.0                    4.0   \n",
       "1            High                    4.0                    4.0   \n",
       "2          Medium                    0.0                    1.0   \n",
       "3          Medium                    2.0                    1.0   \n",
       "4             Low                    2.0                    2.0   \n",
       "...           ...                    ...                    ...   \n",
       "1995       Medium                    4.0                    4.0   \n",
       "1996         High                    4.0                    4.0   \n",
       "1997       Medium                    1.0                    2.0   \n",
       "1998          Low                    4.0                    4.0   \n",
       "1999       Medium                    2.0                    6.0   \n",
       "\n",
       "      Internet Speed Mbps Device Type Noise Level      Mood  \\\n",
       "0                    20.0     Desktop      Medium  Stressed   \n",
       "1                    10.0      Mobile         Low     Tired   \n",
       "2                    50.0     Desktop      Medium     Happy   \n",
       "3                   150.0     Desktop      Medium     Tired   \n",
       "4                    10.0      Mobile         Low     Tired   \n",
       "...                   ...         ...         ...       ...   \n",
       "1995                 50.0      Laptop      Medium      Calm   \n",
       "1996                100.0      Mobile      Medium     Tired   \n",
       "1997                 50.0      Laptop        High  Stressed   \n",
       "1998                 10.0     Desktop      Medium  Stressed   \n",
       "1999                 50.0      Laptop         Low     Happy   \n",
       "\n",
       "      Commute Hours Preremote  Work Engagement Score  Weekly Mental Breaks  \n",
       "0                         4.0                  12.71                   0.0  \n",
       "1                         0.0                   3.85                   5.0  \n",
       "2                         0.0                   4.75                   3.0  \n",
       "3                         1.0                   7.63                   2.0  \n",
       "4                         5.0                   5.60                   0.0  \n",
       "...                       ...                    ...                   ...  \n",
       "1995                      5.0                   5.79                   2.0  \n",
       "1996                      5.0                   3.02                   1.0  \n",
       "1997                      5.0                   7.72                   0.0  \n",
       "1998                      1.0                   3.36                   2.0  \n",
       "1999                      0.0                   7.83                   0.0  \n",
       "\n",
       "[1979 rows x 20 columns]"
      ]
     },
     "execution_count": 90,
     "metadata": {},
     "output_type": "execute_result"
    }
   ],
   "source": [
    "df"
   ]
  },
  {
   "cell_type": "code",
   "execution_count": 91,
   "id": "58725c4b-8b1f-4bd3-8fd9-1c63a824ccad",
   "metadata": {},
   "outputs": [
    {
     "data": {
      "text/plain": [
       "Employee Id\n",
       "E002    367\n",
       "E006    331\n",
       "E001    326\n",
       "E003    322\n",
       "E004    317\n",
       "E005    316\n",
       "Name: count, dtype: int64"
      ]
     },
     "execution_count": 91,
     "metadata": {},
     "output_type": "execute_result"
    }
   ],
   "source": [
    "df['Employee Id'].value_counts()"
   ]
  },
  {
   "cell_type": "code",
   "execution_count": 92,
   "id": "60ac2109-fad8-4d13-a581-b3ab23af511b",
   "metadata": {},
   "outputs": [
    {
     "data": {
      "text/plain": [
       "(1979, 20)"
      ]
     },
     "execution_count": 92,
     "metadata": {},
     "output_type": "execute_result"
    }
   ],
   "source": [
    "df.shape"
   ]
  },
  {
   "cell_type": "code",
   "execution_count": 93,
   "id": "05b31003-792b-4f1d-8586-c20727db00a4",
   "metadata": {},
   "outputs": [],
   "source": [
    "#Created a new unique Employee ID column\n",
    "df[\"New_ID\"] = [\"EMP\" + str(i+1).zfill(4) for i in range(len(df))]"
   ]
  },
  {
   "cell_type": "code",
   "execution_count": 94,
   "id": "0bef3687-95b1-4dde-b646-ead53e7082fa",
   "metadata": {},
   "outputs": [
    {
     "name": "stdout",
     "output_type": "stream",
     "text": [
      "1979\n",
      "1979\n"
     ]
    }
   ],
   "source": [
    "print(len(df[\"New_ID\"]))\n",
    "print(df[\"New_ID\"].value_counts().sum())"
   ]
  },
  {
   "cell_type": "code",
   "execution_count": 95,
   "id": "f15cfcd6-2435-4c72-ab82-f1b7d772dcaf",
   "metadata": {},
   "outputs": [],
   "source": [
    "#This moves New_ID from last to first\n",
    "df = df[[\"New_ID\"] + df.columns[:-1].tolist()]"
   ]
  },
  {
   "cell_type": "code",
   "execution_count": 96,
   "id": "d6ac5e1d-952c-4a2c-91f6-3fe3168028db",
   "metadata": {},
   "outputs": [],
   "source": [
    "#removing old employee column\n",
    "df.drop(\"Employee Id\", axis=1, inplace=True)"
   ]
  },
  {
   "cell_type": "code",
   "execution_count": 97,
   "id": "0ece5949-7131-4314-8826-80fc6a8c9386",
   "metadata": {},
   "outputs": [
    {
     "data": {
      "text/plain": [
       "Index(['New_ID', 'Age', 'Gender', 'Department', 'Remote Work',\n",
       "       'Daily Work Hours', 'Screen Time Hours', 'Sleep Quality',\n",
       "       'Physical Activity Level', 'Burnout Score', 'Stress Level',\n",
       "       'Coffee Intake Per Day', 'Meeting Hours Per Day', 'Internet Speed Mbps',\n",
       "       'Device Type', 'Noise Level', 'Mood', 'Commute Hours Preremote',\n",
       "       'Work Engagement Score', 'Weekly Mental Breaks'],\n",
       "      dtype='object')"
      ]
     },
     "execution_count": 97,
     "metadata": {},
     "output_type": "execute_result"
    }
   ],
   "source": [
    "df.columns"
   ]
  },
  {
   "cell_type": "code",
   "execution_count": 98,
   "id": "6754d960-8efb-42f0-a04d-26d7bcf0a18d",
   "metadata": {},
   "outputs": [
    {
     "data": {
      "text/html": [
       "<div>\n",
       "<style scoped>\n",
       "    .dataframe tbody tr th:only-of-type {\n",
       "        vertical-align: middle;\n",
       "    }\n",
       "\n",
       "    .dataframe tbody tr th {\n",
       "        vertical-align: top;\n",
       "    }\n",
       "\n",
       "    .dataframe thead th {\n",
       "        text-align: right;\n",
       "    }\n",
       "</style>\n",
       "<table border=\"1\" class=\"dataframe\">\n",
       "  <thead>\n",
       "    <tr style=\"text-align: right;\">\n",
       "      <th></th>\n",
       "      <th>New_ID</th>\n",
       "      <th>Age</th>\n",
       "      <th>Gender</th>\n",
       "      <th>Department</th>\n",
       "      <th>Remote Work</th>\n",
       "      <th>Daily Work Hours</th>\n",
       "      <th>Screen Time Hours</th>\n",
       "      <th>Sleep Quality</th>\n",
       "      <th>Physical Activity Level</th>\n",
       "      <th>Burnout Score</th>\n",
       "      <th>Stress Level</th>\n",
       "      <th>Coffee Intake Per Day</th>\n",
       "      <th>Meeting Hours Per Day</th>\n",
       "      <th>Internet Speed Mbps</th>\n",
       "      <th>Device Type</th>\n",
       "      <th>Noise Level</th>\n",
       "      <th>Mood</th>\n",
       "      <th>Commute Hours Preremote</th>\n",
       "      <th>Work Engagement Score</th>\n",
       "      <th>Weekly Mental Breaks</th>\n",
       "    </tr>\n",
       "  </thead>\n",
       "  <tbody>\n",
       "    <tr>\n",
       "      <th>0</th>\n",
       "      <td>EMP0001</td>\n",
       "      <td>48</td>\n",
       "      <td>Male</td>\n",
       "      <td>Sales</td>\n",
       "      <td>YES</td>\n",
       "      <td>12.0</td>\n",
       "      <td>8.0</td>\n",
       "      <td>Poor</td>\n",
       "      <td>High</td>\n",
       "      <td>6.07</td>\n",
       "      <td>Medium</td>\n",
       "      <td>0.0</td>\n",
       "      <td>4.0</td>\n",
       "      <td>20.0</td>\n",
       "      <td>Desktop</td>\n",
       "      <td>Medium</td>\n",
       "      <td>Stressed</td>\n",
       "      <td>4.0</td>\n",
       "      <td>12.71</td>\n",
       "      <td>0.0</td>\n",
       "    </tr>\n",
       "    <tr>\n",
       "      <th>1</th>\n",
       "      <td>EMP0002</td>\n",
       "      <td>32</td>\n",
       "      <td>Male</td>\n",
       "      <td>HR</td>\n",
       "      <td>NO</td>\n",
       "      <td>10.0</td>\n",
       "      <td>7.0</td>\n",
       "      <td>Poor</td>\n",
       "      <td>High</td>\n",
       "      <td>5.68</td>\n",
       "      <td>High</td>\n",
       "      <td>4.0</td>\n",
       "      <td>4.0</td>\n",
       "      <td>10.0</td>\n",
       "      <td>Mobile</td>\n",
       "      <td>Low</td>\n",
       "      <td>Tired</td>\n",
       "      <td>0.0</td>\n",
       "      <td>3.85</td>\n",
       "      <td>5.0</td>\n",
       "    </tr>\n",
       "    <tr>\n",
       "      <th>2</th>\n",
       "      <td>EMP0003</td>\n",
       "      <td>22</td>\n",
       "      <td>Male</td>\n",
       "      <td>Admin</td>\n",
       "      <td>NO</td>\n",
       "      <td>6.0</td>\n",
       "      <td>7.0</td>\n",
       "      <td>Good</td>\n",
       "      <td>Low</td>\n",
       "      <td>4.33</td>\n",
       "      <td>Medium</td>\n",
       "      <td>0.0</td>\n",
       "      <td>1.0</td>\n",
       "      <td>50.0</td>\n",
       "      <td>Desktop</td>\n",
       "      <td>Medium</td>\n",
       "      <td>Happy</td>\n",
       "      <td>0.0</td>\n",
       "      <td>4.75</td>\n",
       "      <td>3.0</td>\n",
       "    </tr>\n",
       "    <tr>\n",
       "      <th>3</th>\n",
       "      <td>EMP0004</td>\n",
       "      <td>34</td>\n",
       "      <td>Male</td>\n",
       "      <td>IT</td>\n",
       "      <td>NO</td>\n",
       "      <td>6.0</td>\n",
       "      <td>10.5</td>\n",
       "      <td>Fair</td>\n",
       "      <td>Medium</td>\n",
       "      <td>5.57</td>\n",
       "      <td>Medium</td>\n",
       "      <td>2.0</td>\n",
       "      <td>1.0</td>\n",
       "      <td>150.0</td>\n",
       "      <td>Desktop</td>\n",
       "      <td>Medium</td>\n",
       "      <td>Tired</td>\n",
       "      <td>1.0</td>\n",
       "      <td>7.63</td>\n",
       "      <td>2.0</td>\n",
       "    </tr>\n",
       "    <tr>\n",
       "      <th>4</th>\n",
       "      <td>EMP0005</td>\n",
       "      <td>51</td>\n",
       "      <td>Male</td>\n",
       "      <td>Sales</td>\n",
       "      <td>NO</td>\n",
       "      <td>12.0</td>\n",
       "      <td>10.5</td>\n",
       "      <td>Poor</td>\n",
       "      <td>High</td>\n",
       "      <td>6.96</td>\n",
       "      <td>Low</td>\n",
       "      <td>2.0</td>\n",
       "      <td>2.0</td>\n",
       "      <td>10.0</td>\n",
       "      <td>Mobile</td>\n",
       "      <td>Low</td>\n",
       "      <td>Tired</td>\n",
       "      <td>5.0</td>\n",
       "      <td>5.60</td>\n",
       "      <td>0.0</td>\n",
       "    </tr>\n",
       "  </tbody>\n",
       "</table>\n",
       "</div>"
      ],
      "text/plain": [
       "    New_ID  Age Gender Department Remote Work  Daily Work Hours  \\\n",
       "0  EMP0001   48   Male      Sales         YES              12.0   \n",
       "1  EMP0002   32   Male         HR          NO              10.0   \n",
       "2  EMP0003   22   Male      Admin          NO               6.0   \n",
       "3  EMP0004   34   Male         IT          NO               6.0   \n",
       "4  EMP0005   51   Male      Sales          NO              12.0   \n",
       "\n",
       "   Screen Time Hours Sleep Quality Physical Activity Level  Burnout Score  \\\n",
       "0                8.0          Poor                    High           6.07   \n",
       "1                7.0          Poor                    High           5.68   \n",
       "2                7.0          Good                     Low           4.33   \n",
       "3               10.5          Fair                  Medium           5.57   \n",
       "4               10.5          Poor                    High           6.96   \n",
       "\n",
       "  Stress Level  Coffee Intake Per Day  Meeting Hours Per Day  \\\n",
       "0       Medium                    0.0                    4.0   \n",
       "1         High                    4.0                    4.0   \n",
       "2       Medium                    0.0                    1.0   \n",
       "3       Medium                    2.0                    1.0   \n",
       "4          Low                    2.0                    2.0   \n",
       "\n",
       "   Internet Speed Mbps Device Type Noise Level      Mood  \\\n",
       "0                 20.0     Desktop      Medium  Stressed   \n",
       "1                 10.0      Mobile         Low     Tired   \n",
       "2                 50.0     Desktop      Medium     Happy   \n",
       "3                150.0     Desktop      Medium     Tired   \n",
       "4                 10.0      Mobile         Low     Tired   \n",
       "\n",
       "   Commute Hours Preremote  Work Engagement Score  Weekly Mental Breaks  \n",
       "0                      4.0                  12.71                   0.0  \n",
       "1                      0.0                   3.85                   5.0  \n",
       "2                      0.0                   4.75                   3.0  \n",
       "3                      1.0                   7.63                   2.0  \n",
       "4                      5.0                   5.60                   0.0  "
      ]
     },
     "execution_count": 98,
     "metadata": {},
     "output_type": "execute_result"
    }
   ],
   "source": [
    "df.head()"
   ]
  },
  {
   "cell_type": "markdown",
   "id": "573fe56d-5383-43e6-b144-e09a0d2e8831",
   "metadata": {},
   "source": [
    "# DATA ANALYSIS & VISUALIZATION TASKS"
   ]
  },
  {
   "cell_type": "code",
   "execution_count": 100,
   "id": "1c873b9d-9884-4853-8ff3-b3ab1262b5e8",
   "metadata": {},
   "outputs": [],
   "source": [
    "import seaborn as sns\n",
    "import matplotlib.pyplot as plt"
   ]
  },
  {
   "cell_type": "markdown",
   "id": "a205e77c-13c8-4ba5-99fb-7a9f8b0fac58",
   "metadata": {},
   "source": [
    "# \"Stress Level Distribution Analysis\""
   ]
  },
  {
   "cell_type": "code",
   "execution_count": 102,
   "id": "15858c60-8a7f-4194-820d-6f16172a0f5f",
   "metadata": {},
   "outputs": [
    {
     "data": {
      "image/png": "[encoded data removed]",
      "text/plain": [
       "<Figure size 800x500 with 1 Axes>"
      ]
     },
     "metadata": {},
     "output_type": "display_data"
    }
   ],
   "source": [
    "plt.figure(figsize=(8,5))\n",
    "sns.countplot(data=df , x='Stress Level' , palette = 'coolwarm')\n",
    "plt.title('Distribution of Stress Levels among Employees')\n",
    "plt.xlabel('Stress Level')\n",
    "plt.ylabel('Number of employee')\n",
    "plt.grid(axis='y')\n",
    "plt.tight_layout()"
   ]
  },
  {
   "cell_type": "raw",
   "id": "d29075aa-984d-44be-9bdd-7bb7cbc6eaeb",
   "metadata": {},
   "source": [
    "### 🔍 Insight (Stress Level Distribution):\n",
    "\n",
    "Most employees have a **Medium level of stress**.  \n",
    "This means they are not completely relaxed, but also not at very high stress.  \n",
    "It shows the work environment is manageable, but some improvements can help reduce stress further.\n",
    "\n",
    "To avoid future burnout, the company can:\n",
    "- Give regular breaks\n",
    "- Support mental health\n",
    "- Improve team balance"
   ]
  },
  {
   "cell_type": "markdown",
   "id": "81841a51-c002-4009-a5f3-b3bb21c8d951",
   "metadata": {},
   "source": [
    "# \"Remote Work Distribution\""
   ]
  },
  {
   "cell_type": "code",
   "execution_count": 104,
   "id": "211326d7-a6da-46e0-9612-e7d81530377f",
   "metadata": {},
   "outputs": [
    {
     "data": {
      "text/plain": [
       "Remote Work\n",
       "NO     1218\n",
       "YES     761\n",
       "Name: count, dtype: int64"
      ]
     },
     "execution_count": 104,
     "metadata": {},
     "output_type": "execute_result"
    }
   ],
   "source": [
    "remote_work= df['Remote Work'].value_counts()\n",
    "remote_work"
   ]
  },
  {
   "cell_type": "code",
   "execution_count": 105,
   "id": "a608b38d-572c-478e-8f46-71638cbe1a3a",
   "metadata": {},
   "outputs": [
    {
     "data": {
      "text/plain": [
       "Text(0, 0.5, '')"
      ]
     },
     "execution_count": 105,
     "metadata": {},
     "output_type": "execute_result"
    },
    {
     "data": {
      "image/png": "[encoded data removed]",
      "text/plain": [
       "<Figure size 640x480 with 1 Axes>"
      ]
     },
     "metadata": {},
     "output_type": "display_data"
    }
   ],
   "source": [
    "remote_work.plot.pie(autopct='%1.1f%%')\n",
    "plt.title(\"Remote Work Distribution\")\n",
    "plt.ylabel(\"\")"
   ]
  },
  {
   "cell_type": "raw",
   "id": "12a02307-d4cd-4984-bdca-06d9e1eaf4c8",
   "metadata": {},
   "source": [
    "### 🔍 Insight (Remote Work Distribution):\n",
    "\n",
    "Most employees are not working remotely — they go to the office daily.  \n",
    "This tells us that the company follows a more traditional office-based work culture.  \n",
    "In upcoming tasks, we can check if office-based employees have more stress or less productivity compared to remote workers."
   ]
  },
  {
   "cell_type": "markdown",
   "id": "b14eade7-36d1-4611-bafd-95e573abe999",
   "metadata": {},
   "source": [
    "# Stress level vs Work Engagement Score"
   ]
  },
  {
   "cell_type": "code",
   "execution_count": 107,
   "id": "d2d9d073-1842-475f-baa6-e3f0507ff7d5",
   "metadata": {},
   "outputs": [
    {
     "data": {
      "image/png": "[encoded data removed]",
      "text/plain": [
       "<Figure size 800x500 with 1 Axes>"
      ]
     },
     "metadata": {},
     "output_type": "display_data"
    }
   ],
   "source": [
    "plt.figure(figsize=(8, 5))\n",
    "sns.boxplot(data=df, x='Stress Level', y='Work Engagement Score', palette='viridis')\n",
    "plt.title('Stress Level vs Work Engagement (Productivity)')\n",
    "plt.xlabel('Stress Level')\n",
    "plt.ylabel('Work Engagement Score')\n",
    "plt.grid(True)\n",
    "plt.tight_layout()"
   ]
  },
  {
   "cell_type": "raw",
   "id": "201ba59d-9644-474b-9ffa-eb9f3c75fbff",
   "metadata": {},
   "source": [
    "### 🔍 Insight (Stress level vs Work Engagement Score)\n",
    "\n",
    "As Stress Increase Engagement Decreases.\n",
    "Every Stess Level Contains some outliers"
   ]
  },
  {
   "cell_type": "markdown",
   "id": "747275f2-cf86-484d-9efc-ce2ad27e0202",
   "metadata": {},
   "source": [
    "# Remote Work vs Stress vs Engagement (mean values)"
   ]
  },
  {
   "cell_type": "markdown",
   "id": "ad58b4e2-69d7-4943-aff2-8aa6d92734f0",
   "metadata": {},
   "source": [
    "#Goal: how average engagement score changes with different stress levels and remote work types."
   ]
  },
  {
   "cell_type": "code",
   "execution_count": 110,
   "id": "fb0dd1b3-f44d-4a1c-96d2-3fe8bbfe3180",
   "metadata": {},
   "outputs": [
    {
     "data": {
      "text/plain": [
       "Index(['New_ID', 'Age', 'Gender', 'Department', 'Remote Work',\n",
       "       'Daily Work Hours', 'Screen Time Hours', 'Sleep Quality',\n",
       "       'Physical Activity Level', 'Burnout Score', 'Stress Level',\n",
       "       'Coffee Intake Per Day', 'Meeting Hours Per Day', 'Internet Speed Mbps',\n",
       "       'Device Type', 'Noise Level', 'Mood', 'Commute Hours Preremote',\n",
       "       'Work Engagement Score', 'Weekly Mental Breaks'],\n",
       "      dtype='object')"
      ]
     },
     "execution_count": 110,
     "metadata": {},
     "output_type": "execute_result"
    }
   ],
   "source": [
    "df.columns"
   ]
  },
  {
   "cell_type": "code",
   "execution_count": 111,
   "id": "282ac783-7c35-4923-8b29-9ecb0fb46753",
   "metadata": {},
   "outputs": [
    {
     "data": {
      "text/html": [
       "<div>\n",
       "<style scoped>\n",
       "    .dataframe tbody tr th:only-of-type {\n",
       "        vertical-align: middle;\n",
       "    }\n",
       "\n",
       "    .dataframe tbody tr th {\n",
       "        vertical-align: top;\n",
       "    }\n",
       "\n",
       "    .dataframe thead th {\n",
       "        text-align: right;\n",
       "    }\n",
       "</style>\n",
       "<table border=\"1\" class=\"dataframe\">\n",
       "  <thead>\n",
       "    <tr style=\"text-align: right;\">\n",
       "      <th>Stress Level</th>\n",
       "      <th>High</th>\n",
       "      <th>Low</th>\n",
       "      <th>Medium</th>\n",
       "    </tr>\n",
       "    <tr>\n",
       "      <th>Remote Work</th>\n",
       "      <th></th>\n",
       "      <th></th>\n",
       "      <th></th>\n",
       "    </tr>\n",
       "  </thead>\n",
       "  <tbody>\n",
       "    <tr>\n",
       "      <th>NO</th>\n",
       "      <td>6.080868</td>\n",
       "      <td>5.988586</td>\n",
       "      <td>6.106932</td>\n",
       "    </tr>\n",
       "    <tr>\n",
       "      <th>YES</th>\n",
       "      <td>5.999355</td>\n",
       "      <td>5.973957</td>\n",
       "      <td>5.945670</td>\n",
       "    </tr>\n",
       "  </tbody>\n",
       "</table>\n",
       "</div>"
      ],
      "text/plain": [
       "Stress Level      High       Low    Medium\n",
       "Remote Work                               \n",
       "NO            6.080868  5.988586  6.106932\n",
       "YES           5.999355  5.973957  5.945670"
      ]
     },
     "execution_count": 111,
     "metadata": {},
     "output_type": "execute_result"
    }
   ],
   "source": [
    "pivot_df = df.pivot_table(index ='Remote Work' , columns='Stress Level' ,values='Work Engagement Score' ,aggfunc='mean')\n",
    "pivot_df"
   ]
  },
  {
   "cell_type": "code",
   "execution_count": 112,
   "id": "8e43d31d-bdfd-4054-95b3-4989a6cc2f2d",
   "metadata": {},
   "outputs": [
    {
     "data": {
      "text/plain": [
       "Text(45.722222222222214, 0.5, 'Remote Work Type')"
      ]
     },
     "execution_count": 112,
     "metadata": {},
     "output_type": "execute_result"
    },
    {
     "data": {
      "image/png": "[encoded data removed]",
      "text/plain": [
       "<Figure size 600x400 with 2 Axes>"
      ]
     },
     "metadata": {},
     "output_type": "display_data"
    }
   ],
   "source": [
    "plt.figure(figsize=(6, 4))\n",
    "sns.heatmap(pivot_df, annot=True, cmap='coolwarm', fmt=\".2f\")\n",
    "plt.title(\"Avg Engagement Score: Remote Work vs Stress Level\")\n",
    "plt.xlabel(\"Stress Level\")\n",
    "plt.ylabel(\"Remote Work Type\")"
   ]
  },
  {
   "cell_type": "raw",
   "id": "d1dbf60b-bb40-4d27-a702-442fcffbee7b",
   "metadata": {},
   "source": [
    "### 🔍 Insight (# Remote Work vs Stress vs Engagement (mean values)\n",
    "\n",
    "🔹 Non-remote employees show higher engagement than remote employees across all stress levels."
   ]
  },
  {
   "cell_type": "markdown",
   "id": "7284cf25-dca5-4684-a7a4-0956986e0a37",
   "metadata": {},
   "source": [
    "# \"Stress Level Distribution by Department\""
   ]
  },
  {
   "cell_type": "code",
   "execution_count": 114,
   "id": "59a57663-a09d-44d5-9e2f-36aa266e9d9b",
   "metadata": {},
   "outputs": [
    {
     "data": {
      "image/png": "[encoded data removed]",
      "text/plain": [
       "<Figure size 1000x600 with 1 Axes>"
      ]
     },
     "metadata": {},
     "output_type": "display_data"
    }
   ],
   "source": [
    "plt.figure(figsize=(10,6))\n",
    "sns.countplot(data=df, x='Department', hue='Stress Level')\n",
    "plt.title(\"Stress Level Distribution by Department\")\n",
    "plt.xticks(rotation=45)\n",
    "plt.grid(True)\n",
    "plt.tight_layout()"
   ]
  },
  {
   "cell_type": "raw",
   "id": "8d22da61-5c16-4c43-9d0b-2d3752fde32c",
   "metadata": {},
   "source": [
    "### 🔍 Insight (# \"Stress Level Distribution by Department\")\n",
    "\n",
    "In Every Department Maximum Employee Face Medium Level Stress .\n",
    "IT department has more employee than others."
   ]
  },
  {
   "cell_type": "markdown",
   "id": "2c063cb0-9976-450e-bc5e-24a3b1b6aff7",
   "metadata": {},
   "source": [
    "# Analyze Sleep Quality vs Stress Level"
   ]
  },
  {
   "cell_type": "code",
   "execution_count": 116,
   "id": "da9c02f2-a930-4410-8116-07052478eefc",
   "metadata": {},
   "outputs": [
    {
     "data": {
      "text/plain": [
       "Index(['New_ID', 'Age', 'Gender', 'Department', 'Remote Work',\n",
       "       'Daily Work Hours', 'Screen Time Hours', 'Sleep Quality',\n",
       "       'Physical Activity Level', 'Burnout Score', 'Stress Level',\n",
       "       'Coffee Intake Per Day', 'Meeting Hours Per Day', 'Internet Speed Mbps',\n",
       "       'Device Type', 'Noise Level', 'Mood', 'Commute Hours Preremote',\n",
       "       'Work Engagement Score', 'Weekly Mental Breaks'],\n",
       "      dtype='object')"
      ]
     },
     "execution_count": 116,
     "metadata": {},
     "output_type": "execute_result"
    }
   ],
   "source": [
    "df.columns"
   ]
  },
  {
   "cell_type": "code",
   "execution_count": 117,
   "id": "84bce40d-6bf2-4722-958d-c98014db8ecf",
   "metadata": {},
   "outputs": [
    {
     "data": {
      "image/png": "[encoded data removed]",
      "text/plain": [
       "<Figure size 600x500 with 1 Axes>"
      ]
     },
     "metadata": {},
     "output_type": "display_data"
    }
   ],
   "source": [
    "plt.figure(figsize=(6,5))\n",
    "sns.countplot(data=df , x ='Stress Level' , hue='Sleep Quality' )\n",
    "plt.title(\"Analyze Sleep Quality vs Stress Level\")\n",
    "plt.ylabel(\"Employee Count\")\n",
    "plt.xlabel(\"Stress level\")\n",
    "plt.legend()\n",
    "plt.grid(True)"
   ]
  },
  {
   "cell_type": "raw",
   "id": "4076e838-2841-4867-a3b6-75ac45cec34d",
   "metadata": {},
   "source": [
    "### 🔍 Insight( \"Analyze Sleep Quality vs Stress Level\")\n",
    "\n",
    "Most people with all stress level had a poor sleep quality .\n",
    "the people with good and fair are very less"
   ]
  },
  {
   "cell_type": "markdown",
   "id": "94479eeb-213e-408c-931c-88aa5364105b",
   "metadata": {},
   "source": [
    " # Mood vs Burnout Score"
   ]
  },
  {
   "cell_type": "code",
   "execution_count": 119,
   "id": "dd946375-158c-4b04-8a97-cf09b2c11e55",
   "metadata": {},
   "outputs": [
    {
     "data": {
      "text/html": [
       "<div>\n",
       "<style scoped>\n",
       "    .dataframe tbody tr th:only-of-type {\n",
       "        vertical-align: middle;\n",
       "    }\n",
       "\n",
       "    .dataframe tbody tr th {\n",
       "        vertical-align: top;\n",
       "    }\n",
       "\n",
       "    .dataframe thead th {\n",
       "        text-align: right;\n",
       "    }\n",
       "</style>\n",
       "<table border=\"1\" class=\"dataframe\">\n",
       "  <thead>\n",
       "    <tr style=\"text-align: right;\">\n",
       "      <th></th>\n",
       "      <th>Mood</th>\n",
       "      <th>Burnout Score</th>\n",
       "    </tr>\n",
       "  </thead>\n",
       "  <tbody>\n",
       "    <tr>\n",
       "      <th>0</th>\n",
       "      <td>Calm</td>\n",
       "      <td>5.028908</td>\n",
       "    </tr>\n",
       "    <tr>\n",
       "      <th>1</th>\n",
       "      <td>Happy</td>\n",
       "      <td>4.989811</td>\n",
       "    </tr>\n",
       "    <tr>\n",
       "      <th>2</th>\n",
       "      <td>Stressed</td>\n",
       "      <td>4.937487</td>\n",
       "    </tr>\n",
       "    <tr>\n",
       "      <th>3</th>\n",
       "      <td>Tired</td>\n",
       "      <td>5.115482</td>\n",
       "    </tr>\n",
       "  </tbody>\n",
       "</table>\n",
       "</div>"
      ],
      "text/plain": [
       "       Mood  Burnout Score\n",
       "0      Calm       5.028908\n",
       "1     Happy       4.989811\n",
       "2  Stressed       4.937487\n",
       "3     Tired       5.115482"
      ]
     },
     "execution_count": 119,
     "metadata": {},
     "output_type": "execute_result"
    }
   ],
   "source": [
    "# Finding average of burnout score by mood\n",
    "avg_burnout = df.groupby('Mood')['Burnout Score'].mean().reset_index()\n",
    "avg_burnout"
   ]
  },
  {
   "cell_type": "code",
   "execution_count": 120,
   "id": "b307d9ce-3795-4255-86c5-f7a44ec0b96a",
   "metadata": {},
   "outputs": [
    {
     "data": {
      "image/png": "[encoded data removed]",
      "text/plain": [
       "<Figure size 800x600 with 1 Axes>"
      ]
     },
     "metadata": {},
     "output_type": "display_data"
    }
   ],
   "source": [
    "plt.figure(figsize=(8, 6))\n",
    "sns.barplot(data=avg_burnout, x='Mood', y='Burnout Score', palette='viridis')\n",
    "\n",
    "plt.title(\"Average Burnout Score by Mood\")\n",
    "plt.xlabel(\"Mood\")\n",
    "plt.ylabel(\"Burnout Score\")\n",
    "plt.grid(True)"
   ]
  },
  {
   "cell_type": "raw",
   "id": "b9c941c2-45fd-48f2-986f-bfa23de182e6",
   "metadata": {},
   "source": [
    "### 🔍 Insight  (Mood vs Burnout Score Analysis)\n",
    "\n",
    "💬 Employees who reported feeling \"Tired\" have the highest average Burnout Score\n",
    "\n",
    "# Actionable Point\n",
    "Consider implementing mental breaks, flexible hours, or workload balance programs for tired employees"
   ]
  },
  {
   "cell_type": "markdown",
   "id": "dcf3b237-6fff-4d99-906c-f3f97563f9fe",
   "metadata": {},
   "source": [
    "# Remote Work vs Stress Level"
   ]
  },
  {
   "cell_type": "code",
   "execution_count": 122,
   "id": "0c2371be-bd06-4e8e-baff-29dd220fbbef",
   "metadata": {},
   "outputs": [
    {
     "data": {
      "text/html": [
       "<div>\n",
       "<style scoped>\n",
       "    .dataframe tbody tr th:only-of-type {\n",
       "        vertical-align: middle;\n",
       "    }\n",
       "\n",
       "    .dataframe tbody tr th {\n",
       "        vertical-align: top;\n",
       "    }\n",
       "\n",
       "    .dataframe thead th {\n",
       "        text-align: right;\n",
       "    }\n",
       "</style>\n",
       "<table border=\"1\" class=\"dataframe\">\n",
       "  <thead>\n",
       "    <tr style=\"text-align: right;\">\n",
       "      <th>Stress Level</th>\n",
       "      <th>High</th>\n",
       "      <th>Low</th>\n",
       "      <th>Medium</th>\n",
       "    </tr>\n",
       "    <tr>\n",
       "      <th>Remote Work</th>\n",
       "      <th></th>\n",
       "      <th></th>\n",
       "      <th></th>\n",
       "    </tr>\n",
       "  </thead>\n",
       "  <tbody>\n",
       "    <tr>\n",
       "      <th>NO</th>\n",
       "      <td>311</td>\n",
       "      <td>304</td>\n",
       "      <td>603</td>\n",
       "    </tr>\n",
       "    <tr>\n",
       "      <th>YES</th>\n",
       "      <td>186</td>\n",
       "      <td>187</td>\n",
       "      <td>388</td>\n",
       "    </tr>\n",
       "  </tbody>\n",
       "</table>\n",
       "</div>"
      ],
      "text/plain": [
       "Stress Level  High  Low  Medium\n",
       "Remote Work                    \n",
       "NO             311  304     603\n",
       "YES            186  187     388"
      ]
     },
     "execution_count": 122,
     "metadata": {},
     "output_type": "execute_result"
    }
   ],
   "source": [
    "cross_RS = pd.crosstab(df['Remote Work'] , df['Stress Level'])\n",
    "cross_RS"
   ]
  },
  {
   "cell_type": "raw",
   "id": "23844601-d6a4-40e8-a5cd-f57c9db776d5",
   "metadata": {},
   "source": [
    "### 🔍 Insight ( Remote work vs Stress Level)\n",
    "\n",
    "Employees not working remotely have more high stress cases (311) compared to those working remotely (186).\n",
    "Also, remote workers have a higher proportion of low stress compared to on-site employees"
   ]
  },
  {
   "cell_type": "code",
   "execution_count": 123,
   "id": "ae939353-5e36-41ce-ad7c-888984692b56",
   "metadata": {},
   "outputs": [
    {
     "data": {
      "text/plain": [
       "Index(['New_ID', 'Age', 'Gender', 'Department', 'Remote Work',\n",
       "       'Daily Work Hours', 'Screen Time Hours', 'Sleep Quality',\n",
       "       'Physical Activity Level', 'Burnout Score', 'Stress Level',\n",
       "       'Coffee Intake Per Day', 'Meeting Hours Per Day', 'Internet Speed Mbps',\n",
       "       'Device Type', 'Noise Level', 'Mood', 'Commute Hours Preremote',\n",
       "       'Work Engagement Score', 'Weekly Mental Breaks'],\n",
       "      dtype='object')"
      ]
     },
     "execution_count": 123,
     "metadata": {},
     "output_type": "execute_result"
    }
   ],
   "source": [
    "df.columns"
   ]
  },
  {
   "cell_type": "markdown",
   "id": "a094524f-22d5-4653-8db7-4b34d9d0b09e",
   "metadata": {},
   "source": [
    " # Coffee Intake vs Burnout Score"
   ]
  },
  {
   "cell_type": "code",
   "execution_count": 125,
   "id": "325d40c4-11e9-4229-ae57-2f4e19fe95b2",
   "metadata": {},
   "outputs": [
    {
     "data": {
      "text/html": [
       "<div>\n",
       "<style scoped>\n",
       "    .dataframe tbody tr th:only-of-type {\n",
       "        vertical-align: middle;\n",
       "    }\n",
       "\n",
       "    .dataframe tbody tr th {\n",
       "        vertical-align: top;\n",
       "    }\n",
       "\n",
       "    .dataframe thead th {\n",
       "        text-align: right;\n",
       "    }\n",
       "</style>\n",
       "<table border=\"1\" class=\"dataframe\">\n",
       "  <thead>\n",
       "    <tr style=\"text-align: right;\">\n",
       "      <th></th>\n",
       "      <th>Coffee Intake Per Day</th>\n",
       "      <th>Burnout Score</th>\n",
       "    </tr>\n",
       "  </thead>\n",
       "  <tbody>\n",
       "    <tr>\n",
       "      <th>0</th>\n",
       "      <td>0.0</td>\n",
       "      <td>4.912638</td>\n",
       "    </tr>\n",
       "    <tr>\n",
       "      <th>1</th>\n",
       "      <td>1.0</td>\n",
       "      <td>4.876366</td>\n",
       "    </tr>\n",
       "    <tr>\n",
       "      <th>2</th>\n",
       "      <td>2.0</td>\n",
       "      <td>5.143940</td>\n",
       "    </tr>\n",
       "    <tr>\n",
       "      <th>3</th>\n",
       "      <td>3.0</td>\n",
       "      <td>5.028868</td>\n",
       "    </tr>\n",
       "    <tr>\n",
       "      <th>4</th>\n",
       "      <td>4.0</td>\n",
       "      <td>5.128235</td>\n",
       "    </tr>\n",
       "  </tbody>\n",
       "</table>\n",
       "</div>"
      ],
      "text/plain": [
       "   Coffee Intake Per Day  Burnout Score\n",
       "0                    0.0       4.912638\n",
       "1                    1.0       4.876366\n",
       "2                    2.0       5.143940\n",
       "3                    3.0       5.028868\n",
       "4                    4.0       5.128235"
      ]
     },
     "execution_count": 125,
     "metadata": {},
     "output_type": "execute_result"
    }
   ],
   "source": [
    "# Average of Burnout Score By Coffee Intake\n",
    "group_coffe = df.groupby('Coffee Intake Per Day')['Burnout Score'].mean().reset_index()\n",
    "group_coffe"
   ]
  },
  {
   "cell_type": "code",
   "execution_count": 126,
   "id": "11ea3e42-7ea4-46ba-a412-eb9237512a1d",
   "metadata": {},
   "outputs": [
    {
     "data": {
      "image/png": "[encoded data removed]",
      "text/plain": [
       "<Figure size 800x500 with 1 Axes>"
      ]
     },
     "metadata": {},
     "output_type": "display_data"
    }
   ],
   "source": [
    "plt.figure(figsize=(8, 5))\n",
    "sns.barplot(data=group_coffe, x='Coffee Intake Per Day', y='Burnout Score', palette='OrRd')\n",
    "plt.title(\"Burnout Score vs Coffee Intake\")\n",
    "plt.xlabel(\"Coffee Intake Per Day (cups)\")\n",
    "plt.ylabel(\"Average Burnout Score\")\n",
    "plt.tight_layout()\n",
    "plt.grid(True)"
   ]
  },
  {
   "cell_type": "raw",
   "id": "705a324e-7c36-46ed-9589-15ad89cd7bfe",
   "metadata": {},
   "source": [
    "### 🔍 Insight ( Coffee intake vs Burnout)\n",
    "\n",
    "People who consume 2–4 cups of coffee tend to have higher burnout scores compared to those who consume 0–1 cup.\n",
    "Peak burnout is at 2 and 4 cups"
   ]
  },
  {
   "cell_type": "markdown",
   "id": "8c89aa4e-925b-44ab-abc0-cfd8a81e2c9f",
   "metadata": {},
   "source": [
    "# Physical Activity Level vs Burnout Score"
   ]
  },
  {
   "cell_type": "code",
   "execution_count": 128,
   "id": "99aef938-4fd3-40a3-a871-8f149414ffe6",
   "metadata": {},
   "outputs": [
    {
     "data": {
      "text/html": [
       "<div>\n",
       "<style scoped>\n",
       "    .dataframe tbody tr th:only-of-type {\n",
       "        vertical-align: middle;\n",
       "    }\n",
       "\n",
       "    .dataframe tbody tr th {\n",
       "        vertical-align: top;\n",
       "    }\n",
       "\n",
       "    .dataframe thead th {\n",
       "        text-align: right;\n",
       "    }\n",
       "</style>\n",
       "<table border=\"1\" class=\"dataframe\">\n",
       "  <thead>\n",
       "    <tr style=\"text-align: right;\">\n",
       "      <th></th>\n",
       "      <th>Physical Activity Level</th>\n",
       "      <th>Burnout Score</th>\n",
       "    </tr>\n",
       "  </thead>\n",
       "  <tbody>\n",
       "    <tr>\n",
       "      <th>0</th>\n",
       "      <td>High</td>\n",
       "      <td>5.046123</td>\n",
       "    </tr>\n",
       "    <tr>\n",
       "      <th>1</th>\n",
       "      <td>Low</td>\n",
       "      <td>5.157397</td>\n",
       "    </tr>\n",
       "    <tr>\n",
       "      <th>2</th>\n",
       "      <td>Medium</td>\n",
       "      <td>4.903783</td>\n",
       "    </tr>\n",
       "  </tbody>\n",
       "</table>\n",
       "</div>"
      ],
      "text/plain": [
       "  Physical Activity Level  Burnout Score\n",
       "0                    High       5.046123\n",
       "1                     Low       5.157397\n",
       "2                  Medium       4.903783"
      ]
     },
     "execution_count": 128,
     "metadata": {},
     "output_type": "execute_result"
    }
   ],
   "source": [
    "group_activity = df.groupby('Physical Activity Level')['Burnout Score'].mean().reset_index()\n",
    "group_activity"
   ]
  },
  {
   "cell_type": "code",
   "execution_count": 129,
   "id": "f64d106b-5e22-40e3-bd63-dc18a6167090",
   "metadata": {},
   "outputs": [
    {
     "data": {
      "text/plain": [
       "Text(0.5, 0, 'Physical Activity Level')"
      ]
     },
     "execution_count": 129,
     "metadata": {},
     "output_type": "execute_result"
    },
    {
     "data": {
      "image/png": "[encoded data removed]",
      "text/plain": [
       "<Figure size 640x480 with 1 Axes>"
      ]
     },
     "metadata": {},
     "output_type": "display_data"
    }
   ],
   "source": [
    "sns.barplot(x='Physical Activity Level', y='Burnout Score', data=group_activity)\n",
    "plt.title(\"Physical Activity Level vs Burnout Score\")\n",
    "plt.ylabel(\"Average Burnout Score\")\n",
    "plt.xlabel(\"Physical Activity Level\")"
   ]
  },
  {
   "cell_type": "raw",
   "id": "05fd3779-7dca-4623-986e-0d5e038c74c1",
   "metadata": {},
   "source": [
    "### 🔍 Insight (Physical Activity Level vs Burnout Score)\n",
    "\n",
    "Employees with low physical activity levels tend to have the highest average burnout scores, \n",
    "while those with moderate to high physical activity show lower burnout levels.\n",
    "This suggests that regular physical activity may help reduce burnout, \n",
    "likely due to its impact on mental health, stress reduction, and energy levels."
   ]
  },
  {
   "cell_type": "markdown",
   "id": "a7bc83e7-17bd-40ff-a283-c5b3b820a93c",
   "metadata": {},
   "source": [
    "# how Sleep Quality affects Stress Level and Burnout Score"
   ]
  },
  {
   "cell_type": "code",
   "execution_count": 131,
   "id": "672fdc40-9117-491f-8d8c-a1b79db04dd5",
   "metadata": {},
   "outputs": [
    {
     "data": {
      "text/plain": [
       "Index(['New_ID', 'Age', 'Gender', 'Department', 'Remote Work',\n",
       "       'Daily Work Hours', 'Screen Time Hours', 'Sleep Quality',\n",
       "       'Physical Activity Level', 'Burnout Score', 'Stress Level',\n",
       "       'Coffee Intake Per Day', 'Meeting Hours Per Day', 'Internet Speed Mbps',\n",
       "       'Device Type', 'Noise Level', 'Mood', 'Commute Hours Preremote',\n",
       "       'Work Engagement Score', 'Weekly Mental Breaks'],\n",
       "      dtype='object')"
      ]
     },
     "execution_count": 131,
     "metadata": {},
     "output_type": "execute_result"
    }
   ],
   "source": [
    "df.columns"
   ]
  },
  {
   "cell_type": "code",
   "execution_count": 132,
   "id": "8f623800-a73f-4a9b-b532-aec9ee696802",
   "metadata": {},
   "outputs": [
    {
     "data": {
      "text/plain": [
       "dtype('O')"
      ]
     },
     "execution_count": 132,
     "metadata": {},
     "output_type": "execute_result"
    }
   ],
   "source": [
    "df['Sleep Quality'].dtype"
   ]
  },
  {
   "cell_type": "code",
   "execution_count": 133,
   "id": "1ad70e08-9e75-4509-92e2-09fe20764350",
   "metadata": {},
   "outputs": [
    {
     "data": {
      "text/plain": [
       "Stress Level\n",
       "Medium    991\n",
       "High      497\n",
       "Low       491\n",
       "Name: count, dtype: int64"
      ]
     },
     "execution_count": 133,
     "metadata": {},
     "output_type": "execute_result"
    }
   ],
   "source": [
    "df['Stress Level'].value_counts()"
   ]
  },
  {
   "cell_type": "code",
   "execution_count": 134,
   "id": "8a170ee4-c325-4258-8377-13b2529fa71d",
   "metadata": {},
   "outputs": [],
   "source": [
    "# To check average , i converted categorical to numeric \n",
    "\n",
    "stress_map = {\n",
    "    'Low': 3,\n",
    "    'Medium': 6,\n",
    "    'High': 9\n",
    "}\n",
    "\n",
    "df['Stress Level'] = df['Stress Level'].map(stress_map)"
   ]
  },
  {
   "cell_type": "code",
   "execution_count": 135,
   "id": "f8ab71a7-f74e-4e2b-b9ed-4cd515aecba3",
   "metadata": {},
   "outputs": [
    {
     "data": {
      "text/html": [
       "<div>\n",
       "<style scoped>\n",
       "    .dataframe tbody tr th:only-of-type {\n",
       "        vertical-align: middle;\n",
       "    }\n",
       "\n",
       "    .dataframe tbody tr th {\n",
       "        vertical-align: top;\n",
       "    }\n",
       "\n",
       "    .dataframe thead th {\n",
       "        text-align: right;\n",
       "    }\n",
       "</style>\n",
       "<table border=\"1\" class=\"dataframe\">\n",
       "  <thead>\n",
       "    <tr style=\"text-align: right;\">\n",
       "      <th></th>\n",
       "      <th>Stress Level</th>\n",
       "      <th>Burnout Score</th>\n",
       "    </tr>\n",
       "    <tr>\n",
       "      <th>Sleep Quality</th>\n",
       "      <th></th>\n",
       "      <th></th>\n",
       "    </tr>\n",
       "  </thead>\n",
       "  <tbody>\n",
       "    <tr>\n",
       "      <th>Fair</th>\n",
       "      <td>5.981781</td>\n",
       "      <td>5.039960</td>\n",
       "    </tr>\n",
       "    <tr>\n",
       "      <th>Good</th>\n",
       "      <td>5.942675</td>\n",
       "      <td>5.102378</td>\n",
       "    </tr>\n",
       "    <tr>\n",
       "      <th>Poor</th>\n",
       "      <td>6.053254</td>\n",
       "      <td>5.007465</td>\n",
       "    </tr>\n",
       "  </tbody>\n",
       "</table>\n",
       "</div>"
      ],
      "text/plain": [
       "               Stress Level  Burnout Score\n",
       "Sleep Quality                             \n",
       "Fair               5.981781       5.039960\n",
       "Good               5.942675       5.102378\n",
       "Poor               6.053254       5.007465"
      ]
     },
     "execution_count": 135,
     "metadata": {},
     "output_type": "execute_result"
    }
   ],
   "source": [
    "group_SQ = df.groupby('Sleep Quality')[['Stress Level','Burnout Score']].mean()\n",
    "group_SQ"
   ]
  },
  {
   "cell_type": "code",
   "execution_count": 136,
   "id": "3e292ccc-25e0-4a50-909f-c43ec8b362b6",
   "metadata": {},
   "outputs": [
    {
     "data": {
      "image/png": "[encoded data removed]",
      "text/plain": [
       "<Figure size 1000x400 with 2 Axes>"
      ]
     },
     "metadata": {},
     "output_type": "display_data"
    }
   ],
   "source": [
    "import matplotlib.pyplot as plt\n",
    "\n",
    "# Size\n",
    "plt.figure(figsize=(10,4))\n",
    "\n",
    "#Stress Level BY Sleep quality\n",
    "plt.subplot(1, 2, 1)\n",
    "plt.bar(group_SQ.index, group_SQ['Stress Level'], color='orange')\n",
    "plt.title(\"Avg Stress Level\")\n",
    "plt.xlabel(\"Sleep Quality\")\n",
    "plt.ylabel(\"Stress Level\")\n",
    "\n",
    "#  Burnout Score By Sleep Quality\n",
    "plt.subplot(1, 2, 2)\n",
    "plt.bar(group_SQ.index, group_SQ['Burnout Score'], color='green')\n",
    "plt.title(\"Avg Burnout Score\")\n",
    "plt.xlabel(\"Sleep Quality\")\n",
    "plt.ylabel(\"Burnout Score\")\n",
    "\n",
    "plt.tight_layout()\n"
   ]
  },
  {
   "cell_type": "raw",
   "id": "2287b46e-4fd0-40ff-9b59-e3422be597e4",
   "metadata": {},
   "source": [
    "### 🔍 Insight ( Sleep Quality affects Stress Level and Burnout Score)\n",
    "\n",
    "Employees with poor sleep quality have the highest average stress level (6.05), while those with good sleep have slightly lower stress (5.94).\n",
    "Surprisingly, burnout score doesn’t change much across sleep quality levels — it's almost consistent"
   ]
  },
  {
   "cell_type": "markdown",
   "id": "bb7fb284-3dcc-4241-8b4c-32c59bf498eb",
   "metadata": {},
   "source": [
    " # Gender-wise Analysis of Stress and Burnout"
   ]
  },
  {
   "cell_type": "code",
   "execution_count": 138,
   "id": "6ff9b45f-8ad3-4b72-9529-e223403d90f3",
   "metadata": {},
   "outputs": [
    {
     "name": "stdout",
     "output_type": "stream",
     "text": [
      "Gender\n",
      "Male      1425\n",
      "Female     554\n",
      "Name: count, dtype: int64\n"
     ]
    }
   ],
   "source": [
    "print(df['Gender'].value_counts())"
   ]
  },
  {
   "cell_type": "code",
   "execution_count": 139,
   "id": "c5e04307-6713-4df4-93c4-0e15d65fb0eb",
   "metadata": {},
   "outputs": [
    {
     "data": {
      "text/plain": [
       "Stress Level\n",
       "6    991\n",
       "9    497\n",
       "3    491\n",
       "Name: count, dtype: int64"
      ]
     },
     "execution_count": 139,
     "metadata": {},
     "output_type": "execute_result"
    }
   ],
   "source": [
    "df['Stress Level'].value_counts()"
   ]
  },
  {
   "cell_type": "code",
   "execution_count": 140,
   "id": "4e7477ef-8c45-419d-80a1-e2fe5e480d4d",
   "metadata": {},
   "outputs": [
    {
     "data": {
      "text/html": [
       "<div>\n",
       "<style scoped>\n",
       "    .dataframe tbody tr th:only-of-type {\n",
       "        vertical-align: middle;\n",
       "    }\n",
       "\n",
       "    .dataframe tbody tr th {\n",
       "        vertical-align: top;\n",
       "    }\n",
       "\n",
       "    .dataframe thead th {\n",
       "        text-align: right;\n",
       "    }\n",
       "</style>\n",
       "<table border=\"1\" class=\"dataframe\">\n",
       "  <thead>\n",
       "    <tr style=\"text-align: right;\">\n",
       "      <th></th>\n",
       "      <th>Stress Level</th>\n",
       "      <th>Burnout Score</th>\n",
       "    </tr>\n",
       "    <tr>\n",
       "      <th>Gender</th>\n",
       "      <th></th>\n",
       "      <th></th>\n",
       "    </tr>\n",
       "  </thead>\n",
       "  <tbody>\n",
       "    <tr>\n",
       "      <th>Female</th>\n",
       "      <td>6.059567</td>\n",
       "      <td>4.837708</td>\n",
       "    </tr>\n",
       "    <tr>\n",
       "      <th>Male</th>\n",
       "      <td>5.989474</td>\n",
       "      <td>5.116098</td>\n",
       "    </tr>\n",
       "  </tbody>\n",
       "</table>\n",
       "</div>"
      ],
      "text/plain": [
       "        Stress Level  Burnout Score\n",
       "Gender                             \n",
       "Female      6.059567       4.837708\n",
       "Male        5.989474       5.116098"
      ]
     },
     "execution_count": 140,
     "metadata": {},
     "output_type": "execute_result"
    }
   ],
   "source": [
    "group_gender = df.groupby('Gender')[['Stress Level','Burnout Score']].mean()\n",
    "group_gender"
   ]
  },
  {
   "cell_type": "code",
   "execution_count": null,
   "id": "f1656420-c01e-4668-b0a8-93c94d4ebac2",
   "metadata": {},
   "outputs": [],
   "source": []
  },
  {
   "cell_type": "code",
   "execution_count": 141,
   "id": "76d943f4-16a8-4e25-9a80-47338e3bc524",
   "metadata": {},
   "outputs": [
    {
     "data": {
      "image/png": "[encoded data removed]",
      "text/plain": [
       "<Figure size 640x480 with 2 Axes>"
      ]
     },
     "metadata": {},
     "output_type": "display_data"
    }
   ],
   "source": [
    "#Stress Level BY Sleep quality\n",
    "plt.subplot(1, 2, 1)\n",
    "plt.bar(group_gender.index, group_gender['Stress Level'], color='orange')\n",
    "plt.title(\"Avg Stress Level By Gender\")\n",
    "plt.xlabel(\"Gender\")\n",
    "plt.ylabel(\"Stress Level\")\n",
    "\n",
    "#  Burnout Score By Sleep Quality\n",
    "plt.subplot(1, 2, 2)\n",
    "plt.bar(group_gender.index, group_gender['Burnout Score'], color='green')\n",
    "plt.title(\"Avg Burnout Score By Gender\")\n",
    "plt.xlabel(\"Gender\")\n",
    "plt.ylabel(\"Burnout Score\")\n",
    "\n",
    "plt.tight_layout()"
   ]
  },
  {
   "cell_type": "raw",
   "id": "59e09849-bc7d-4a66-b367-df6334350b4c",
   "metadata": {},
   "source": [
    "### 🔍 Insight ( Gender VS  Stress Level and Burnout Score)\n",
    "\n",
    "We can understand female has more stress Level when compared to male .\n",
    "Male has more burnout score than Femlae "
   ]
  },
  {
   "cell_type": "markdown",
   "id": "4660b94e-5c1c-4a9c-a1ba-7d8379b21db5",
   "metadata": {},
   "source": [
    " # Mood Distribution by Internet Speed"
   ]
  },
  {
   "cell_type": "code",
   "execution_count": 143,
   "id": "c5e6f76c-ead8-4b3a-b44f-f85e1a84a8a9",
   "metadata": {},
   "outputs": [
    {
     "data": {
      "text/plain": [
       "Index(['New_ID', 'Age', 'Gender', 'Department', 'Remote Work',\n",
       "       'Daily Work Hours', 'Screen Time Hours', 'Sleep Quality',\n",
       "       'Physical Activity Level', 'Burnout Score', 'Stress Level',\n",
       "       'Coffee Intake Per Day', 'Meeting Hours Per Day', 'Internet Speed Mbps',\n",
       "       'Device Type', 'Noise Level', 'Mood', 'Commute Hours Preremote',\n",
       "       'Work Engagement Score', 'Weekly Mental Breaks'],\n",
       "      dtype='object')"
      ]
     },
     "execution_count": 143,
     "metadata": {},
     "output_type": "execute_result"
    }
   ],
   "source": [
    "df.columns"
   ]
  },
  {
   "cell_type": "code",
   "execution_count": 144,
   "id": "c5aa3876-daf1-43d7-a52f-4243702f244c",
   "metadata": {},
   "outputs": [
    {
     "data": {
      "text/plain": [
       "Mood\n",
       "Tired       799\n",
       "Calm        412\n",
       "Stressed    398\n",
       "Happy       370\n",
       "Name: count, dtype: int64"
      ]
     },
     "execution_count": 144,
     "metadata": {},
     "output_type": "execute_result"
    }
   ],
   "source": [
    "# value_counts\n",
    "df['Mood'].value_counts()"
   ]
  },
  {
   "cell_type": "code",
   "execution_count": 145,
   "id": "2d89350f-ab77-48b2-8648-7b3568451a87",
   "metadata": {},
   "outputs": [
    {
     "data": {
      "text/plain": [
       "Internet Speed Mbps\n",
       "50.0     651\n",
       "100.0    369\n",
       "10.0     329\n",
       "20.0     322\n",
       "150.0    308\n",
       "Name: count, dtype: int64"
      ]
     },
     "execution_count": 145,
     "metadata": {},
     "output_type": "execute_result"
    }
   ],
   "source": [
    "df['Internet Speed Mbps'].value_counts()"
   ]
  },
  {
   "cell_type": "code",
   "execution_count": 146,
   "id": "fb85b5d9-3b2a-4450-80e7-d9cea4632fea",
   "metadata": {},
   "outputs": [
    {
     "data": {
      "text/html": [
       "<div>\n",
       "<style scoped>\n",
       "    .dataframe tbody tr th:only-of-type {\n",
       "        vertical-align: middle;\n",
       "    }\n",
       "\n",
       "    .dataframe tbody tr th {\n",
       "        vertical-align: top;\n",
       "    }\n",
       "\n",
       "    .dataframe thead th {\n",
       "        text-align: right;\n",
       "    }\n",
       "</style>\n",
       "<table border=\"1\" class=\"dataframe\">\n",
       "  <thead>\n",
       "    <tr style=\"text-align: right;\">\n",
       "      <th>Mood</th>\n",
       "      <th>Calm</th>\n",
       "      <th>Happy</th>\n",
       "      <th>Stressed</th>\n",
       "      <th>Tired</th>\n",
       "    </tr>\n",
       "    <tr>\n",
       "      <th>Internet Speed Mbps</th>\n",
       "      <th></th>\n",
       "      <th></th>\n",
       "      <th></th>\n",
       "      <th></th>\n",
       "    </tr>\n",
       "  </thead>\n",
       "  <tbody>\n",
       "    <tr>\n",
       "      <th>10.0</th>\n",
       "      <td>71</td>\n",
       "      <td>69</td>\n",
       "      <td>60</td>\n",
       "      <td>129</td>\n",
       "    </tr>\n",
       "    <tr>\n",
       "      <th>20.0</th>\n",
       "      <td>60</td>\n",
       "      <td>63</td>\n",
       "      <td>65</td>\n",
       "      <td>134</td>\n",
       "    </tr>\n",
       "    <tr>\n",
       "      <th>50.0</th>\n",
       "      <td>140</td>\n",
       "      <td>116</td>\n",
       "      <td>126</td>\n",
       "      <td>269</td>\n",
       "    </tr>\n",
       "    <tr>\n",
       "      <th>100.0</th>\n",
       "      <td>84</td>\n",
       "      <td>53</td>\n",
       "      <td>75</td>\n",
       "      <td>157</td>\n",
       "    </tr>\n",
       "    <tr>\n",
       "      <th>150.0</th>\n",
       "      <td>57</td>\n",
       "      <td>69</td>\n",
       "      <td>72</td>\n",
       "      <td>110</td>\n",
       "    </tr>\n",
       "  </tbody>\n",
       "</table>\n",
       "</div>"
      ],
      "text/plain": [
       "Mood                 Calm  Happy  Stressed  Tired\n",
       "Internet Speed Mbps                              \n",
       "10.0                   71     69        60    129\n",
       "20.0                   60     63        65    134\n",
       "50.0                  140    116       126    269\n",
       "100.0                  84     53        75    157\n",
       "150.0                  57     69        72    110"
      ]
     },
     "execution_count": 146,
     "metadata": {},
     "output_type": "execute_result"
    }
   ],
   "source": [
    "grouped = df.groupby(['Internet Speed Mbps', 'Mood']).size().unstack()\n",
    "grouped"
   ]
  },
  {
   "cell_type": "code",
   "execution_count": 147,
   "id": "77d06d5e-32eb-450a-915f-6b5a0ecd2af6",
   "metadata": {},
   "outputs": [
    {
     "data": {
      "image/png": "[encoded data removed]",
      "text/plain": [
       "<Figure size 1000x600 with 1 Axes>"
      ]
     },
     "metadata": {},
     "output_type": "display_data"
    }
   ],
   "source": [
    "grouped.plot(kind='bar', figsize=(10,6))\n",
    "plt.title('Mood Distribution by Internet Speed')\n",
    "plt.xlabel('Internet Speed (Mbps)')\n",
    "plt.ylabel('Number of People')\n",
    "plt.legend(title='Mood')\n",
    "plt.tight_layout()"
   ]
  },
  {
   "cell_type": "markdown",
   "id": "9ff634b2-90ff-4440-b10c-7ed2d58bb970",
   "metadata": {},
   "source": [
    "# the Top Correlated Factors with Work Engagement Score"
   ]
  },
  {
   "cell_type": "code",
   "execution_count": 149,
   "id": "a5b492d7-38e3-4163-b52b-d694eee9c16e",
   "metadata": {},
   "outputs": [],
   "source": [
    "# Selecting only numeric columns\n",
    "numeric_df = df.select_dtypes(include='number')"
   ]
  },
  {
   "cell_type": "code",
   "execution_count": 150,
   "id": "d906017a-5a64-48ef-94fb-a0cd545bb97b",
   "metadata": {},
   "outputs": [],
   "source": [
    "# Get correlation with 'Work Engagement Score'\n",
    "correlations = numeric_df.corr()['Work Engagement Score'].sort_values(ascending=False)"
   ]
  },
  {
   "cell_type": "code",
   "execution_count": 151,
   "id": "472b91d7-44f9-4d71-b879-f5b31a62a09c",
   "metadata": {},
   "outputs": [
    {
     "name": "stdout",
     "output_type": "stream",
     "text": [
      "Top correlated features with Work Engagement Score:\n",
      "Coffee Intake Per Day      0.041225\n",
      "Commute Hours Preremote    0.024682\n",
      "Screen Time Hours          0.019907\n",
      "Stress Level               0.011700\n",
      "Burnout Score              0.010843\n",
      "Name: Work Engagement Score, dtype: float64\n"
     ]
    }
   ],
   "source": [
    "# Display top 5 correlations\n",
    "print(\"Top correlated features with Work Engagement Score:\")\n",
    "print(correlations.drop('Work Engagement Score').head(5))"
   ]
  },
  {
   "cell_type": "code",
   "execution_count": 152,
   "id": "588f2d78-7300-4819-b06c-6892c8e09539",
   "metadata": {},
   "outputs": [
    {
     "data": {
      "image/png": "[encoded data removed]",
      "text/plain": [
       "<Figure size 700x600 with 1 Axes>"
      ]
     },
     "metadata": {},
     "output_type": "display_data"
    }
   ],
   "source": [
    "plt.figure(figsize=(7, 6))\n",
    "sns.barplot(x=correlations.values, y=correlations.index, palette='coolwarm')\n",
    "plt.title(\"Feature Correlation with Work Engagement Score\")\n",
    "plt.xlabel(\"Correlation Value\")\n",
    "plt.ylabel(\"Feature\")\n",
    "plt.grid(True)\n",
    "plt.tight_layout()"
   ]
  },
  {
   "cell_type": "raw",
   "id": "5b479bd5-6603-4995-b636-c7e5f1b060e5",
   "metadata": {},
   "source": [
    "### 🔍 Insight(the Top Correlated Factors with Work Engagement Score)\n",
    "\n",
    "Among all features analyzed , only coffee intake per day showed slight positive correlation.\n",
    "other factors like burnout , daily work hours had minimal or negligible impact ."
   ]
  },
  {
   "cell_type": "markdown",
   "id": "49314344-8b55-44e4-9d6c-cf3b86eb72eb",
   "metadata": {},
   "source": [
    " # Analyze Work Engagement Based on Sleep Quality"
   ]
  },
  {
   "cell_type": "code",
   "execution_count": 154,
   "id": "60a57d9b-ece0-4a3a-b25a-0ebe92656cfa",
   "metadata": {},
   "outputs": [
    {
     "data": {
      "text/plain": [
       "Sleep Quality\n",
       "Fair    5.912389\n",
       "Good    5.897813\n",
       "Poor    6.149408\n",
       "Name: Work Engagement Score, dtype: float64"
      ]
     },
     "execution_count": 154,
     "metadata": {},
     "output_type": "execute_result"
    }
   ],
   "source": [
    "group_sleep = df.groupby('Sleep Quality')['Work Engagement Score'].mean()\n",
    "group_sleep"
   ]
  },
  {
   "cell_type": "code",
   "execution_count": 155,
   "id": "4e13da93-af08-41ee-8051-04bc6706dbaf",
   "metadata": {},
   "outputs": [
    {
     "data": {
      "image/png": "[encoded data removed]",
      "text/plain": [
       "<Figure size 640x480 with 1 Axes>"
      ]
     },
     "metadata": {},
     "output_type": "display_data"
    }
   ],
   "source": [
    "group_sleep.plot(kind='bar', color='skyblue')\n",
    "plt.title('Work Engagement by Sleep Quality')\n",
    "plt.ylabel('Average Engagement Score')\n",
    "plt.xlabel('Sleep Quality')\n",
    "plt.grid(True)"
   ]
  },
  {
   "cell_type": "raw",
   "id": "5ff44a10-f866-405f-b518-15b4440f3f4e",
   "metadata": {},
   "source": [
    "### 🔍 Insight(Work enagement by sleep)\n",
    "\n",
    "People with poor sleep quality have the highest work engagement.\n",
    "Those with fair or good sleep show slightly lower engagement.\n",
    "This is surprising and might mean that some people overwork despite poor sleep"
   ]
  },
  {
   "cell_type": "markdown",
   "id": "4c008351-0da0-4713-85c7-310f3a2b3643",
   "metadata": {},
   "source": [
    "# Burnout Score by Department"
   ]
  },
  {
   "cell_type": "code",
   "execution_count": 157,
   "id": "ee5864bf-36a2-4f9f-9880-f2db991b11a8",
   "metadata": {},
   "outputs": [
    {
     "data": {
      "text/plain": [
       "Department\n",
       "Admin    4.987621\n",
       "HR       5.112662\n",
       "IT       5.052991\n",
       "Sales    4.947437\n",
       "Name: Burnout Score, dtype: float64"
      ]
     },
     "execution_count": 157,
     "metadata": {},
     "output_type": "execute_result"
    }
   ],
   "source": [
    "# Average Of Burnout Score By Department\n",
    "\n",
    "group_dep = df.groupby('Department')['Burnout Score'].mean()\n",
    "group_dep"
   ]
  },
  {
   "cell_type": "code",
   "execution_count": 158,
   "id": "2820957c-c732-4e38-aa05-eba7de40dd00",
   "metadata": {},
   "outputs": [
    {
     "data": {
      "image/png": "[encoded data removed]",
      "text/plain": [
       "<Figure size 640x480 with 1 Axes>"
      ]
     },
     "metadata": {},
     "output_type": "display_data"
    }
   ],
   "source": [
    "group_dep.plot(kind='bar', color='orange')\n",
    "plt.title('Average Burnout Score by Department')\n",
    "plt.xlabel('Department')\n",
    "plt.ylabel('Burnout Score')\n",
    "plt.grid(axis='y')\n",
    "plt.xticks(rotation = 50)\n",
    "plt.tight_layout()"
   ]
  },
  {
   "cell_type": "raw",
   "id": "02720f46-0d23-4826-b17f-b811a401ac52",
   "metadata": {},
   "source": [
    "### 🔍 Insight( Average Burnout By Department)\n",
    "\n",
    "HR and IT departments have the highest average burnout, both above 5.\n",
    "Admin and Sales are also close to 5, showing moderate burnout.\n",
    "HR shows the most burnout, which may need attention from management."
   ]
  },
  {
   "cell_type": "markdown",
   "id": "70ec8b04-4730-4bd5-aa96-b9d1ab81b002",
   "metadata": {},
   "source": [
    " # Analyze Work Engagement Score by Department and Remote Work"
   ]
  },
  {
   "cell_type": "code",
   "execution_count": 160,
   "id": "f75af3bb-e7e1-470d-9ae1-07da9a840317",
   "metadata": {},
   "outputs": [
    {
     "data": {
      "text/plain": [
       "Index(['New_ID', 'Age', 'Gender', 'Department', 'Remote Work',\n",
       "       'Daily Work Hours', 'Screen Time Hours', 'Sleep Quality',\n",
       "       'Physical Activity Level', 'Burnout Score', 'Stress Level',\n",
       "       'Coffee Intake Per Day', 'Meeting Hours Per Day', 'Internet Speed Mbps',\n",
       "       'Device Type', 'Noise Level', 'Mood', 'Commute Hours Preremote',\n",
       "       'Work Engagement Score', 'Weekly Mental Breaks'],\n",
       "      dtype='object')"
      ]
     },
     "execution_count": 160,
     "metadata": {},
     "output_type": "execute_result"
    }
   ],
   "source": [
    "df.columns"
   ]
  },
  {
   "cell_type": "code",
   "execution_count": 161,
   "id": "bd1e5514-f1ee-4862-af94-33492033aa8c",
   "metadata": {},
   "outputs": [
    {
     "data": {
      "text/html": [
       "<div>\n",
       "<style scoped>\n",
       "    .dataframe tbody tr th:only-of-type {\n",
       "        vertical-align: middle;\n",
       "    }\n",
       "\n",
       "    .dataframe tbody tr th {\n",
       "        vertical-align: top;\n",
       "    }\n",
       "\n",
       "    .dataframe thead th {\n",
       "        text-align: right;\n",
       "    }\n",
       "</style>\n",
       "<table border=\"1\" class=\"dataframe\">\n",
       "  <thead>\n",
       "    <tr style=\"text-align: right;\">\n",
       "      <th>Remote Work</th>\n",
       "      <th>NO</th>\n",
       "      <th>YES</th>\n",
       "    </tr>\n",
       "    <tr>\n",
       "      <th>Department</th>\n",
       "      <th></th>\n",
       "      <th></th>\n",
       "    </tr>\n",
       "  </thead>\n",
       "  <tbody>\n",
       "    <tr>\n",
       "      <th>Admin</th>\n",
       "      <td>6.023720</td>\n",
       "      <td>5.971810</td>\n",
       "    </tr>\n",
       "    <tr>\n",
       "      <th>HR</th>\n",
       "      <td>6.245027</td>\n",
       "      <td>5.926182</td>\n",
       "    </tr>\n",
       "    <tr>\n",
       "      <th>IT</th>\n",
       "      <td>5.975677</td>\n",
       "      <td>5.982578</td>\n",
       "    </tr>\n",
       "    <tr>\n",
       "      <th>Sales</th>\n",
       "      <td>6.306836</td>\n",
       "      <td>5.927800</td>\n",
       "    </tr>\n",
       "  </tbody>\n",
       "</table>\n",
       "</div>"
      ],
      "text/plain": [
       "Remote Work        NO       YES\n",
       "Department                     \n",
       "Admin        6.023720  5.971810\n",
       "HR           6.245027  5.926182\n",
       "IT           5.975677  5.982578\n",
       "Sales        6.306836  5.927800"
      ]
     },
     "execution_count": 161,
     "metadata": {},
     "output_type": "execute_result"
    }
   ],
   "source": [
    "# Average of work engagement score by department and remotework\n",
    "\n",
    "group_DR = df.groupby(['Department' ,'Remote Work'])['Work Engagement Score'].mean().unstack()\n",
    "group_DR"
   ]
  },
  {
   "cell_type": "code",
   "execution_count": 162,
   "id": "64653b9a-5ac2-44e1-b85b-dac8bfdfa32d",
   "metadata": {},
   "outputs": [
    {
     "data": {
      "image/png": "[encoded data removed]",
      "text/plain": [
       "<Figure size 1000x600 with 1 Axes>"
      ]
     },
     "metadata": {},
     "output_type": "display_data"
    }
   ],
   "source": [
    "group_DR.plot(kind='bar', figsize=(10,6))\n",
    "plt.title('Work Engagement by Department and Remote Work')\n",
    "plt.xlabel('Department')\n",
    "plt.ylabel('Avg Work Engagement Score')\n",
    "plt.grid(axis='y')\n",
    "plt.legend(title='Remote Work')\n",
    "plt.tight_layout()"
   ]
  },
  {
   "cell_type": "raw",
   "id": "0e29e8a3-439e-4bd9-8d33-03699b4008f8",
   "metadata": {},
   "source": [
    "### 🔍 Insight( Average engagement score By Department and Remote work)\n",
    "\n",
    "mostly people who work in office has more burnout score , When compared to remote work employee.\n",
    "in Only IT department it is inverse , but still both are close to each others burnout score"
   ]
  },
  {
   "cell_type": "markdown",
   "id": "a868c870-2fed-4634-909e-30d037a36ad4",
   "metadata": {},
   "source": [
    "# Compare Screen Time and Sleep Quality by Gender"
   ]
  },
  {
   "cell_type": "code",
   "execution_count": 164,
   "id": "80d31189-2fc7-49f2-8378-b0aee4b98b1c",
   "metadata": {},
   "outputs": [
    {
     "data": {
      "text/plain": [
       "Sleep Quality\n",
       "Poor    1014\n",
       "Fair     494\n",
       "Good     471\n",
       "Name: count, dtype: int64"
      ]
     },
     "execution_count": 164,
     "metadata": {},
     "output_type": "execute_result"
    }
   ],
   "source": [
    "df['Sleep Quality'].value_counts()"
   ]
  },
  {
   "cell_type": "code",
   "execution_count": 165,
   "id": "fc7cd863-ef9f-4870-8044-bc99dc6aa566",
   "metadata": {},
   "outputs": [],
   "source": [
    "# Creating New column to convert categorical to Numeric\n",
    "\n",
    "sleep_map = {'Poor': 1, 'Fair': 2, 'Good': 3}\n",
    "df['Sleep_Quality_Num'] = df['Sleep Quality'].map(sleep_map)"
   ]
  },
  {
   "cell_type": "code",
   "execution_count": 166,
   "id": "dd1b39b9-bea0-4bb6-be74-a819b68a3cb6",
   "metadata": {},
   "outputs": [
    {
     "data": {
      "text/plain": [
       "0       1\n",
       "1       1\n",
       "2       3\n",
       "3       2\n",
       "4       1\n",
       "       ..\n",
       "1995    1\n",
       "1996    2\n",
       "1997    1\n",
       "1998    1\n",
       "1999    3\n",
       "Name: Sleep_Quality_Num, Length: 1979, dtype: int64"
      ]
     },
     "execution_count": 166,
     "metadata": {},
     "output_type": "execute_result"
    }
   ],
   "source": [
    "df['Sleep_Quality_Num']"
   ]
  },
  {
   "cell_type": "code",
   "execution_count": 167,
   "id": "d04a26db-e7ef-4d93-8bcc-bea62d8918fb",
   "metadata": {},
   "outputs": [
    {
     "data": {
      "text/html": [
       "<div>\n",
       "<style scoped>\n",
       "    .dataframe tbody tr th:only-of-type {\n",
       "        vertical-align: middle;\n",
       "    }\n",
       "\n",
       "    .dataframe tbody tr th {\n",
       "        vertical-align: top;\n",
       "    }\n",
       "\n",
       "    .dataframe thead th {\n",
       "        text-align: right;\n",
       "    }\n",
       "</style>\n",
       "<table border=\"1\" class=\"dataframe\">\n",
       "  <thead>\n",
       "    <tr style=\"text-align: right;\">\n",
       "      <th></th>\n",
       "      <th>Screen Time Hours</th>\n",
       "      <th>Sleep_Quality_Num</th>\n",
       "    </tr>\n",
       "    <tr>\n",
       "      <th>Gender</th>\n",
       "      <th></th>\n",
       "      <th></th>\n",
       "    </tr>\n",
       "  </thead>\n",
       "  <tbody>\n",
       "    <tr>\n",
       "      <th>Female</th>\n",
       "      <td>7.560469</td>\n",
       "      <td>1.734657</td>\n",
       "    </tr>\n",
       "    <tr>\n",
       "      <th>Male</th>\n",
       "      <td>7.651228</td>\n",
       "      <td>1.722105</td>\n",
       "    </tr>\n",
       "  </tbody>\n",
       "</table>\n",
       "</div>"
      ],
      "text/plain": [
       "        Screen Time Hours  Sleep_Quality_Num\n",
       "Gender                                      \n",
       "Female           7.560469           1.734657\n",
       "Male             7.651228           1.722105"
      ]
     },
     "execution_count": 167,
     "metadata": {},
     "output_type": "execute_result"
    }
   ],
   "source": [
    "avg_SS = df.groupby('Gender')[['Screen Time Hours','Sleep_Quality_Num']].mean()\n",
    "avg_SS"
   ]
  },
  {
   "cell_type": "code",
   "execution_count": 168,
   "id": "f226a7c1-8888-470c-bc3e-2d0b43232dfe",
   "metadata": {},
   "outputs": [
    {
     "data": {
      "image/png": "[encoded data removed]",
      "text/plain": [
       "<Figure size 800x500 with 1 Axes>"
      ]
     },
     "metadata": {},
     "output_type": "display_data"
    }
   ],
   "source": [
    "avg_SS.plot(kind='bar', figsize=(8,5), color=['skyblue', 'lightgreen'])\n",
    "\n",
    "plt.title('Avg Screen Time & Sleep Quality by Gender')\n",
    "plt.ylabel('Values')\n",
    "plt.xlabel('Gender')\n",
    "plt.grid(axis='y')\n",
    "plt.legend(['Screen Time Hours', 'Sleep Quality (1=Poor, 3=Good)'])\n",
    "\n",
    "plt.tight_layout()"
   ]
  },
  {
   "cell_type": "raw",
   "id": "30500ce7-a089-40a0-8d4a-4a61c6c7471e",
   "metadata": {},
   "source": [
    "### 🔍 Insight( Screen Time and Sleep By Gender)\n",
    "\n",
    "Both male and female has more screen time likely similar.\n",
    "both have poor sleep "
   ]
  },
  {
   "cell_type": "code",
   "execution_count": 169,
   "id": "8571fcba-b596-471c-8695-729e8978792c",
   "metadata": {},
   "outputs": [
    {
     "data": {
      "text/plain": [
       "Index(['New_ID', 'Age', 'Gender', 'Department', 'Remote Work',\n",
       "       'Daily Work Hours', 'Screen Time Hours', 'Sleep Quality',\n",
       "       'Physical Activity Level', 'Burnout Score', 'Stress Level',\n",
       "       'Coffee Intake Per Day', 'Meeting Hours Per Day', 'Internet Speed Mbps',\n",
       "       'Device Type', 'Noise Level', 'Mood', 'Commute Hours Preremote',\n",
       "       'Work Engagement Score', 'Weekly Mental Breaks', 'Sleep_Quality_Num'],\n",
       "      dtype='object')"
      ]
     },
     "execution_count": 169,
     "metadata": {},
     "output_type": "execute_result"
    }
   ],
   "source": [
    "df.columns"
   ]
  },
  {
   "cell_type": "markdown",
   "id": "791d2314-0f3b-42bd-88f8-7ea043c2fb8a",
   "metadata": {},
   "source": [
    "# Does noise level affect mood and stress?"
   ]
  },
  {
   "cell_type": "code",
   "execution_count": 171,
   "id": "5c0cf690-d02e-44de-ad75-b6b8a6527aa9",
   "metadata": {},
   "outputs": [
    {
     "data": {
      "text/plain": [
       "Noise Level\n",
       "Medium    1016\n",
       "Low        484\n",
       "High       479\n",
       "Name: count, dtype: int64"
      ]
     },
     "execution_count": 171,
     "metadata": {},
     "output_type": "execute_result"
    }
   ],
   "source": [
    "df['Noise Level'].value_counts()"
   ]
  },
  {
   "cell_type": "code",
   "execution_count": 172,
   "id": "7f64de26-593b-4dca-8c52-137ff871eb72",
   "metadata": {},
   "outputs": [
    {
     "data": {
      "text/plain": [
       "Mood\n",
       "Tired       799\n",
       "Calm        412\n",
       "Stressed    398\n",
       "Happy       370\n",
       "Name: count, dtype: int64"
      ]
     },
     "execution_count": 172,
     "metadata": {},
     "output_type": "execute_result"
    }
   ],
   "source": [
    "df['Mood'].value_counts()"
   ]
  },
  {
   "cell_type": "code",
   "execution_count": 173,
   "id": "930fe007-dea2-4723-b905-1ee43e3ffe5c",
   "metadata": {},
   "outputs": [
    {
     "data": {
      "text/plain": [
       "Stress Level\n",
       "6    991\n",
       "9    497\n",
       "3    491\n",
       "Name: count, dtype: int64"
      ]
     },
     "execution_count": 173,
     "metadata": {},
     "output_type": "execute_result"
    }
   ],
   "source": [
    "df['Stress Level'].value_counts()"
   ]
  },
  {
   "cell_type": "code",
   "execution_count": 174,
   "id": "4c30f25e-9e38-4c8b-b24d-90410d9d9f2a",
   "metadata": {},
   "outputs": [],
   "source": [
    "# converting caregorical to numeric to perform aggregation\n",
    "\n",
    "mood_map = {'Tired': 1, 'Calm': 2, 'Stressed': 3, 'Happy': 4}\n",
    "df['Mood_Num'] = df['Mood'].map(mood_map)"
   ]
  },
  {
   "cell_type": "code",
   "execution_count": 175,
   "id": "cb046d32-e40b-4e4f-83e7-5f1cd8222b79",
   "metadata": {},
   "outputs": [
    {
     "data": {
      "text/html": [
       "<div>\n",
       "<style scoped>\n",
       "    .dataframe tbody tr th:only-of-type {\n",
       "        vertical-align: middle;\n",
       "    }\n",
       "\n",
       "    .dataframe tbody tr th {\n",
       "        vertical-align: top;\n",
       "    }\n",
       "\n",
       "    .dataframe thead th {\n",
       "        text-align: right;\n",
       "    }\n",
       "</style>\n",
       "<table border=\"1\" class=\"dataframe\">\n",
       "  <thead>\n",
       "    <tr style=\"text-align: right;\">\n",
       "      <th></th>\n",
       "      <th>Mood_Num</th>\n",
       "      <th>Stress Level</th>\n",
       "    </tr>\n",
       "    <tr>\n",
       "      <th>Noise Level</th>\n",
       "      <th></th>\n",
       "      <th></th>\n",
       "    </tr>\n",
       "  </thead>\n",
       "  <tbody>\n",
       "    <tr>\n",
       "      <th>High</th>\n",
       "      <td>2.152401</td>\n",
       "      <td>6.056367</td>\n",
       "    </tr>\n",
       "    <tr>\n",
       "      <th>Low</th>\n",
       "      <td>2.173554</td>\n",
       "      <td>5.944215</td>\n",
       "    </tr>\n",
       "    <tr>\n",
       "      <th>Medium</th>\n",
       "      <td>2.179134</td>\n",
       "      <td>6.017717</td>\n",
       "    </tr>\n",
       "  </tbody>\n",
       "</table>\n",
       "</div>"
      ],
      "text/plain": [
       "             Mood_Num  Stress Level\n",
       "Noise Level                        \n",
       "High         2.152401      6.056367\n",
       "Low          2.173554      5.944215\n",
       "Medium       2.179134      6.017717"
      ]
     },
     "execution_count": 175,
     "metadata": {},
     "output_type": "execute_result"
    }
   ],
   "source": [
    "group_noise = df.groupby('Noise Level')[['Mood_Num','Stress Level']].mean()\n",
    "group_noise"
   ]
  },
  {
   "cell_type": "code",
   "execution_count": 176,
   "id": "fc92da5b-cc57-4c30-9093-bfb15003f799",
   "metadata": {},
   "outputs": [
    {
     "data": {
      "image/png": "[encoded data removed]",
      "text/plain": [
       "<Figure size 1200x500 with 2 Axes>"
      ]
     },
     "metadata": {},
     "output_type": "display_data"
    }
   ],
   "source": [
    "group_noise.plot(kind='bar', subplots=True, layout=(1,2), figsize=(12,5), legend=False, title=['Mood vs Noise', 'Stress vs Noise'])\n",
    "plt.tight_layout()"
   ]
  },
  {
   "cell_type": "raw",
   "id": "3d883bdf-6607-4916-8a9c-14f954ff3bb3",
   "metadata": {},
   "source": [
    "### 🔍 Insight( mood and stress level By noise level)\n",
    "\n",
    "\"As noise level increases, the average stress level slightly increases, \n",
    "and the average mood score slightly decreases. \n",
    "This suggests that higher noise may negatively impact both mood and stress.\""
   ]
  },
  {
   "cell_type": "markdown",
   "id": "ba6af99c-0fba-4927-92a1-1bb4470d0f1a",
   "metadata": {},
   "source": [
    "# Are mental breaks reducing burnout?"
   ]
  },
  {
   "cell_type": "code",
   "execution_count": 178,
   "id": "77656b7b-5a7f-443d-9fd0-ddeb23e086c8",
   "metadata": {},
   "outputs": [
    {
     "data": {
      "text/plain": [
       "Weekly Mental Breaks\n",
       "0.0    5.098949\n",
       "1.0    4.897007\n",
       "2.0    5.014532\n",
       "3.0    5.152539\n",
       "4.0    5.142206\n",
       "5.0    4.962561\n",
       "Name: Burnout Score, dtype: float64"
      ]
     },
     "execution_count": 178,
     "metadata": {},
     "output_type": "execute_result"
    }
   ],
   "source": [
    "avg_burn= df.groupby('Weekly Mental Breaks')['Burnout Score'].mean()\n",
    "avg_burn"
   ]
  },
  {
   "cell_type": "code",
   "execution_count": 179,
   "id": "f33cc8b9-c2db-4dd1-8aa8-6826527cd293",
   "metadata": {},
   "outputs": [
    {
     "name": "stdout",
     "output_type": "stream",
     "text": [
      "Correlation: 0.004265603202712827\n"
     ]
    }
   ],
   "source": [
    "correlation = df['Weekly Mental Breaks'].corr(df['Burnout Score'])\n",
    "print(\"Correlation:\", correlation)"
   ]
  },
  {
   "cell_type": "code",
   "execution_count": 180,
   "id": "4931b54e-e49d-4ddc-9eb2-f41adafb80f8",
   "metadata": {},
   "outputs": [
    {
     "data": {
      "image/png": "[encoded data removed]",
      "text/plain": [
       "<Figure size 800x500 with 1 Axes>"
      ]
     },
     "metadata": {},
     "output_type": "display_data"
    }
   ],
   "source": [
    "avg_burn.plot(kind='line', marker='o', figsize=(8,5), title='Burnout vs Weekly Mental Breaks')\n",
    "plt.xlabel('Weekly Mental Breaks')\n",
    "plt.ylabel('Average Burnout Score')\n",
    "plt.grid(True)"
   ]
  },
  {
   "cell_type": "raw",
   "id": "b7071fa6-e3cb-466a-92b1-efc3e6c3f9d5",
   "metadata": {},
   "source": [
    "### 🔍 Insight (Burnout Score by Mental Breaks)\n",
    "\n",
    "\"Employees who take 1 or 5 mental breaks per week have slightly lower burnout scores compared to those taking 3 or 4 breaks. \n",
    "However, the overall difference is small, \n",
    "suggesting that mental breaks may help, but their impact on burnout isn't very strong or consistent.\""
   ]
  },
  {
   "cell_type": "markdown",
   "id": "16009ab1-51dc-4a54-9c17-e5dd25b4da9b",
   "metadata": {},
   "source": [
    "# Compare Remote vs On-site workers:"
   ]
  },
  {
   "cell_type": "code",
   "execution_count": 182,
   "id": "5514159b-ce21-4857-a005-a989decbb638",
   "metadata": {},
   "outputs": [
    {
     "data": {
      "text/plain": [
       "Index(['New_ID', 'Age', 'Gender', 'Department', 'Remote Work',\n",
       "       'Daily Work Hours', 'Screen Time Hours', 'Sleep Quality',\n",
       "       'Physical Activity Level', 'Burnout Score', 'Stress Level',\n",
       "       'Coffee Intake Per Day', 'Meeting Hours Per Day', 'Internet Speed Mbps',\n",
       "       'Device Type', 'Noise Level', 'Mood', 'Commute Hours Preremote',\n",
       "       'Work Engagement Score', 'Weekly Mental Breaks', 'Sleep_Quality_Num',\n",
       "       'Mood_Num'],\n",
       "      dtype='object')"
      ]
     },
     "execution_count": 182,
     "metadata": {},
     "output_type": "execute_result"
    }
   ],
   "source": [
    "df.columns"
   ]
  },
  {
   "cell_type": "code",
   "execution_count": 183,
   "id": "0d3a5191-9359-4a94-be57-e446aed77057",
   "metadata": {},
   "outputs": [
    {
     "data": {
      "text/html": [
       "<div>\n",
       "<style scoped>\n",
       "    .dataframe tbody tr th:only-of-type {\n",
       "        vertical-align: middle;\n",
       "    }\n",
       "\n",
       "    .dataframe tbody tr th {\n",
       "        vertical-align: top;\n",
       "    }\n",
       "\n",
       "    .dataframe thead th {\n",
       "        text-align: right;\n",
       "    }\n",
       "</style>\n",
       "<table border=\"1\" class=\"dataframe\">\n",
       "  <thead>\n",
       "    <tr style=\"text-align: right;\">\n",
       "      <th></th>\n",
       "      <th>Burnout Score</th>\n",
       "      <th>Work Engagement Score</th>\n",
       "      <th>Daily Work Hours</th>\n",
       "    </tr>\n",
       "    <tr>\n",
       "      <th>Remote Work</th>\n",
       "      <th></th>\n",
       "      <th></th>\n",
       "      <th></th>\n",
       "    </tr>\n",
       "  </thead>\n",
       "  <tbody>\n",
       "    <tr>\n",
       "      <th>NO</th>\n",
       "      <td>4.978662</td>\n",
       "      <td>6.070739</td>\n",
       "      <td>8.057471</td>\n",
       "    </tr>\n",
       "    <tr>\n",
       "      <th>YES</th>\n",
       "      <td>5.133403</td>\n",
       "      <td>5.965742</td>\n",
       "      <td>8.139290</td>\n",
       "    </tr>\n",
       "  </tbody>\n",
       "</table>\n",
       "</div>"
      ],
      "text/plain": [
       "             Burnout Score  Work Engagement Score  Daily Work Hours\n",
       "Remote Work                                                        \n",
       "NO                4.978662               6.070739          8.057471\n",
       "YES               5.133403               5.965742          8.139290"
      ]
     },
     "execution_count": 183,
     "metadata": {},
     "output_type": "execute_result"
    }
   ],
   "source": [
    "compare = df.groupby('Remote Work')[['Burnout Score' ,'Work Engagement Score', 'Daily Work Hours']].mean()\n",
    "compare"
   ]
  },
  {
   "cell_type": "code",
   "execution_count": 184,
   "id": "c955399a-b62b-4629-8e0c-9fdcde06b9d8",
   "metadata": {},
   "outputs": [
    {
     "data": {
      "image/png": "[encoded data removed]",
      "text/plain": [
       "<Figure size 800x500 with 1 Axes>"
      ]
     },
     "metadata": {},
     "output_type": "display_data"
    }
   ],
   "source": [
    "compare.plot(kind='bar', figsize=(8,5), title='Remote vs On-site Worker Comparison')\n",
    "plt.ylabel('Average Score / Hours')\n",
    "plt.xticks(rotation=0)\n",
    "plt.grid(True)"
   ]
  },
  {
   "cell_type": "raw",
   "id": "f0cd9d67-cc22-400a-aa64-b5f467612aed",
   "metadata": {},
   "source": [
    "### 🔍 Insight (Remote Vs Onsite)\n",
    "\n",
    "Remote workers have slightly higher burnout and lower engagement compared to on-site workers, despite working similar hours. \n",
    "This suggests that remote work may not always reduce stress and could impact engagement if not managed well.\""
   ]
  },
  {
   "cell_type": "markdown",
   "id": "11c9a107-1216-45cc-9394-15ee1832a4dd",
   "metadata": {},
   "source": [
    " # Does coffee intake impact screen time or sleep?"
   ]
  },
  {
   "cell_type": "code",
   "execution_count": 186,
   "id": "bcb166fc-c2d5-4796-886e-34a7002c59af",
   "metadata": {},
   "outputs": [
    {
     "name": "stdout",
     "output_type": "stream",
     "text": [
      "                       Coffee Intake Per Day  Screen Time Hours  \\\n",
      "Coffee Intake Per Day               1.000000           0.008201   \n",
      "Screen Time Hours                   0.008201           1.000000   \n",
      "Sleep_Quality_Num                   0.035688          -0.026954   \n",
      "\n",
      "                       Sleep_Quality_Num  \n",
      "Coffee Intake Per Day           0.035688  \n",
      "Screen Time Hours              -0.026954  \n",
      "Sleep_Quality_Num               1.000000  \n"
     ]
    }
   ],
   "source": [
    "cols = ['Coffee Intake Per Day', 'Screen Time Hours', 'Sleep_Quality_Num']\n",
    "\n",
    "# Correlation matrix\n",
    "correlation_matrix = df[cols].corr()\n",
    "\n",
    "print(correlation_matrix)"
   ]
  },
  {
   "cell_type": "code",
   "execution_count": 187,
   "id": "b36a47d2-8a8d-45d8-8c0b-1ad3e3ef8b07",
   "metadata": {},
   "outputs": [
    {
     "data": {
      "text/plain": [
       "Text(0.5, 1.0, 'Correlation: Coffee, Screen Time, Sleep Quality')"
      ]
     },
     "execution_count": 187,
     "metadata": {},
     "output_type": "execute_result"
    },
    {
     "data": {
      "image/png": "[encoded data removed]",
      "text/plain": [
       "<Figure size 600x400 with 2 Axes>"
      ]
     },
     "metadata": {},
     "output_type": "display_data"
    }
   ],
   "source": [
    "plt.figure(figsize=(6,4))\n",
    "sns.heatmap(correlation_matrix, annot=True, cmap='YlGnBu')\n",
    "plt.title('Correlation: Coffee, Screen Time, Sleep Quality')"
   ]
  },
  {
   "cell_type": "raw",
   "id": "1d57fcc0-d688-41e7-8b23-15be90b4f702",
   "metadata": {},
   "source": [
    "### 🔍 Insight (Correlation)\n",
    "\n",
    "Coffee Intake and Screen Time have almost no correlation (0.008) — coffee doesn’t impact screen usage.\n",
    "Coffee Intake and Sleep Quality also show very weak positive correlation (0.035) — almost no effect.\n",
    "Screen Time and Sleep Quality have a slightly negative correlation (-0.026) — higher screen time might slightly reduce sleep quality, but the effect is minimal."
   ]
  },
  {
   "cell_type": "markdown",
   "id": "6b300e8f-78ed-4a60-bb6b-1ec020fab6e6",
   "metadata": {},
   "source": [
    "# Impact of Physical Activity on Engagement & Mood"
   ]
  },
  {
   "cell_type": "code",
   "execution_count": 189,
   "id": "c21ec1df-f523-4a18-9cc6-9a5a59ac8fa5",
   "metadata": {},
   "outputs": [
    {
     "data": {
      "text/plain": [
       "Index(['New_ID', 'Age', 'Gender', 'Department', 'Remote Work',\n",
       "       'Daily Work Hours', 'Screen Time Hours', 'Sleep Quality',\n",
       "       'Physical Activity Level', 'Burnout Score', 'Stress Level',\n",
       "       'Coffee Intake Per Day', 'Meeting Hours Per Day', 'Internet Speed Mbps',\n",
       "       'Device Type', 'Noise Level', 'Mood', 'Commute Hours Preremote',\n",
       "       'Work Engagement Score', 'Weekly Mental Breaks', 'Sleep_Quality_Num',\n",
       "       'Mood_Num'],\n",
       "      dtype='object')"
      ]
     },
     "execution_count": 189,
     "metadata": {},
     "output_type": "execute_result"
    }
   ],
   "source": [
    "df.columns"
   ]
  },
  {
   "cell_type": "code",
   "execution_count": 190,
   "id": "b945d5b2-8538-4627-bcab-93a0e285c1a1",
   "metadata": {},
   "outputs": [
    {
     "data": {
      "text/plain": [
       "Mood\n",
       "Tired       799\n",
       "Calm        412\n",
       "Stressed    398\n",
       "Happy       370\n",
       "Name: count, dtype: int64"
      ]
     },
     "execution_count": 190,
     "metadata": {},
     "output_type": "execute_result"
    }
   ],
   "source": [
    "df['Mood'].value_counts()"
   ]
  },
  {
   "cell_type": "code",
   "execution_count": 191,
   "id": "0c9a9746-8f97-4517-ae5b-037b57b17051",
   "metadata": {},
   "outputs": [
    {
     "data": {
      "text/html": [
       "<div>\n",
       "<style scoped>\n",
       "    .dataframe tbody tr th:only-of-type {\n",
       "        vertical-align: middle;\n",
       "    }\n",
       "\n",
       "    .dataframe tbody tr th {\n",
       "        vertical-align: top;\n",
       "    }\n",
       "\n",
       "    .dataframe thead th {\n",
       "        text-align: right;\n",
       "    }\n",
       "</style>\n",
       "<table border=\"1\" class=\"dataframe\">\n",
       "  <thead>\n",
       "    <tr style=\"text-align: right;\">\n",
       "      <th></th>\n",
       "      <th>Work Engagement Score</th>\n",
       "      <th>Mood_Num</th>\n",
       "    </tr>\n",
       "    <tr>\n",
       "      <th>Physical Activity Level</th>\n",
       "      <th></th>\n",
       "      <th></th>\n",
       "    </tr>\n",
       "  </thead>\n",
       "  <tbody>\n",
       "    <tr>\n",
       "      <th>High</th>\n",
       "      <td>5.992465</td>\n",
       "      <td>2.155070</td>\n",
       "    </tr>\n",
       "    <tr>\n",
       "      <th>Low</th>\n",
       "      <td>6.069938</td>\n",
       "      <td>2.136364</td>\n",
       "    </tr>\n",
       "    <tr>\n",
       "      <th>Medium</th>\n",
       "      <td>6.069162</td>\n",
       "      <td>2.239264</td>\n",
       "    </tr>\n",
       "  </tbody>\n",
       "</table>\n",
       "</div>"
      ],
      "text/plain": [
       "                         Work Engagement Score  Mood_Num\n",
       "Physical Activity Level                                 \n",
       "High                                  5.992465  2.155070\n",
       "Low                                   6.069938  2.136364\n",
       "Medium                                6.069162  2.239264"
      ]
     },
     "execution_count": 191,
     "metadata": {},
     "output_type": "execute_result"
    }
   ],
   "source": [
    "Impact_PA = df.groupby('Physical Activity Level')[['Work Engagement Score','Mood_Num']].mean()\n",
    "Impact_PA"
   ]
  },
  {
   "cell_type": "code",
   "execution_count": 192,
   "id": "17567a82-1d71-4593-967f-d7f5f5619aaa",
   "metadata": {},
   "outputs": [
    {
     "data": {
      "image/png": "[encoded data removed]",
      "text/plain": [
       "<Figure size 800x500 with 1 Axes>"
      ]
     },
     "metadata": {},
     "output_type": "display_data"
    }
   ],
   "source": [
    "Impact_PA.plot(kind='bar', figsize=(8,5), title='Impact of Physical Activity on Mood & Engagement')\n",
    "plt.ylabel('Average Score')\n",
    "plt.xticks(rotation=0)\n",
    "plt.grid(True)"
   ]
  },
  {
   "cell_type": "raw",
   "id": "623bf84b-eb32-4ffd-9da2-4c2c5ffadfcb",
   "metadata": {},
   "source": [
    "# ### 🔍 Insight(Impact on physical activity)\n",
    "\n",
    "\"Employees with medium physical activity have the highest mood scores,\n",
    "while those with low activity show slightly better engagement. Overall, \n",
    "medium activity seems to support better mood, but engagement levels remain similar across all activity levels.\""
   ]
  },
  {
   "cell_type": "code",
   "execution_count": 193,
   "id": "ede2fbd5-8729-4273-a62c-2c6c6d79c926",
   "metadata": {},
   "outputs": [
    {
     "data": {
      "text/html": [
       "<div>\n",
       "<style scoped>\n",
       "    .dataframe tbody tr th:only-of-type {\n",
       "        vertical-align: middle;\n",
       "    }\n",
       "\n",
       "    .dataframe tbody tr th {\n",
       "        vertical-align: top;\n",
       "    }\n",
       "\n",
       "    .dataframe thead th {\n",
       "        text-align: right;\n",
       "    }\n",
       "</style>\n",
       "<table border=\"1\" class=\"dataframe\">\n",
       "  <thead>\n",
       "    <tr style=\"text-align: right;\">\n",
       "      <th></th>\n",
       "      <th>New_ID</th>\n",
       "      <th>Age</th>\n",
       "      <th>Gender</th>\n",
       "      <th>Department</th>\n",
       "      <th>Remote Work</th>\n",
       "      <th>Daily Work Hours</th>\n",
       "      <th>Screen Time Hours</th>\n",
       "      <th>Sleep Quality</th>\n",
       "      <th>Physical Activity Level</th>\n",
       "      <th>Burnout Score</th>\n",
       "      <th>...</th>\n",
       "      <th>Meeting Hours Per Day</th>\n",
       "      <th>Internet Speed Mbps</th>\n",
       "      <th>Device Type</th>\n",
       "      <th>Noise Level</th>\n",
       "      <th>Mood</th>\n",
       "      <th>Commute Hours Preremote</th>\n",
       "      <th>Work Engagement Score</th>\n",
       "      <th>Weekly Mental Breaks</th>\n",
       "      <th>Sleep_Quality_Num</th>\n",
       "      <th>Mood_Num</th>\n",
       "    </tr>\n",
       "  </thead>\n",
       "  <tbody>\n",
       "    <tr>\n",
       "      <th>0</th>\n",
       "      <td>EMP0001</td>\n",
       "      <td>48</td>\n",
       "      <td>Male</td>\n",
       "      <td>Sales</td>\n",
       "      <td>YES</td>\n",
       "      <td>12.0</td>\n",
       "      <td>8.0</td>\n",
       "      <td>Poor</td>\n",
       "      <td>High</td>\n",
       "      <td>6.07</td>\n",
       "      <td>...</td>\n",
       "      <td>4.0</td>\n",
       "      <td>20.0</td>\n",
       "      <td>Desktop</td>\n",
       "      <td>Medium</td>\n",
       "      <td>Stressed</td>\n",
       "      <td>4.0</td>\n",
       "      <td>12.71</td>\n",
       "      <td>0.0</td>\n",
       "      <td>1</td>\n",
       "      <td>3</td>\n",
       "    </tr>\n",
       "    <tr>\n",
       "      <th>1</th>\n",
       "      <td>EMP0002</td>\n",
       "      <td>32</td>\n",
       "      <td>Male</td>\n",
       "      <td>HR</td>\n",
       "      <td>NO</td>\n",
       "      <td>10.0</td>\n",
       "      <td>7.0</td>\n",
       "      <td>Poor</td>\n",
       "      <td>High</td>\n",
       "      <td>5.68</td>\n",
       "      <td>...</td>\n",
       "      <td>4.0</td>\n",
       "      <td>10.0</td>\n",
       "      <td>Mobile</td>\n",
       "      <td>Low</td>\n",
       "      <td>Tired</td>\n",
       "      <td>0.0</td>\n",
       "      <td>3.85</td>\n",
       "      <td>5.0</td>\n",
       "      <td>1</td>\n",
       "      <td>1</td>\n",
       "    </tr>\n",
       "    <tr>\n",
       "      <th>2</th>\n",
       "      <td>EMP0003</td>\n",
       "      <td>22</td>\n",
       "      <td>Male</td>\n",
       "      <td>Admin</td>\n",
       "      <td>NO</td>\n",
       "      <td>6.0</td>\n",
       "      <td>7.0</td>\n",
       "      <td>Good</td>\n",
       "      <td>Low</td>\n",
       "      <td>4.33</td>\n",
       "      <td>...</td>\n",
       "      <td>1.0</td>\n",
       "      <td>50.0</td>\n",
       "      <td>Desktop</td>\n",
       "      <td>Medium</td>\n",
       "      <td>Happy</td>\n",
       "      <td>0.0</td>\n",
       "      <td>4.75</td>\n",
       "      <td>3.0</td>\n",
       "      <td>3</td>\n",
       "      <td>4</td>\n",
       "    </tr>\n",
       "    <tr>\n",
       "      <th>3</th>\n",
       "      <td>EMP0004</td>\n",
       "      <td>34</td>\n",
       "      <td>Male</td>\n",
       "      <td>IT</td>\n",
       "      <td>NO</td>\n",
       "      <td>6.0</td>\n",
       "      <td>10.5</td>\n",
       "      <td>Fair</td>\n",
       "      <td>Medium</td>\n",
       "      <td>5.57</td>\n",
       "      <td>...</td>\n",
       "      <td>1.0</td>\n",
       "      <td>150.0</td>\n",
       "      <td>Desktop</td>\n",
       "      <td>Medium</td>\n",
       "      <td>Tired</td>\n",
       "      <td>1.0</td>\n",
       "      <td>7.63</td>\n",
       "      <td>2.0</td>\n",
       "      <td>2</td>\n",
       "      <td>1</td>\n",
       "    </tr>\n",
       "    <tr>\n",
       "      <th>4</th>\n",
       "      <td>EMP0005</td>\n",
       "      <td>51</td>\n",
       "      <td>Male</td>\n",
       "      <td>Sales</td>\n",
       "      <td>NO</td>\n",
       "      <td>12.0</td>\n",
       "      <td>10.5</td>\n",
       "      <td>Poor</td>\n",
       "      <td>High</td>\n",
       "      <td>6.96</td>\n",
       "      <td>...</td>\n",
       "      <td>2.0</td>\n",
       "      <td>10.0</td>\n",
       "      <td>Mobile</td>\n",
       "      <td>Low</td>\n",
       "      <td>Tired</td>\n",
       "      <td>5.0</td>\n",
       "      <td>5.60</td>\n",
       "      <td>0.0</td>\n",
       "      <td>1</td>\n",
       "      <td>1</td>\n",
       "    </tr>\n",
       "  </tbody>\n",
       "</table>\n",
       "<p>5 rows × 22 columns</p>\n",
       "</div>"
      ],
      "text/plain": [
       "    New_ID  Age Gender Department Remote Work  Daily Work Hours  \\\n",
       "0  EMP0001   48   Male      Sales         YES              12.0   \n",
       "1  EMP0002   32   Male         HR          NO              10.0   \n",
       "2  EMP0003   22   Male      Admin          NO               6.0   \n",
       "3  EMP0004   34   Male         IT          NO               6.0   \n",
       "4  EMP0005   51   Male      Sales          NO              12.0   \n",
       "\n",
       "   Screen Time Hours Sleep Quality Physical Activity Level  Burnout Score  \\\n",
       "0                8.0          Poor                    High           6.07   \n",
       "1                7.0          Poor                    High           5.68   \n",
       "2                7.0          Good                     Low           4.33   \n",
       "3               10.5          Fair                  Medium           5.57   \n",
       "4               10.5          Poor                    High           6.96   \n",
       "\n",
       "   ...  Meeting Hours Per Day  Internet Speed Mbps  Device Type  Noise Level  \\\n",
       "0  ...                    4.0                 20.0      Desktop       Medium   \n",
       "1  ...                    4.0                 10.0       Mobile          Low   \n",
       "2  ...                    1.0                 50.0      Desktop       Medium   \n",
       "3  ...                    1.0                150.0      Desktop       Medium   \n",
       "4  ...                    2.0                 10.0       Mobile          Low   \n",
       "\n",
       "       Mood Commute Hours Preremote Work Engagement Score  \\\n",
       "0  Stressed                     4.0                 12.71   \n",
       "1     Tired                     0.0                  3.85   \n",
       "2     Happy                     0.0                  4.75   \n",
       "3     Tired                     1.0                  7.63   \n",
       "4     Tired                     5.0                  5.60   \n",
       "\n",
       "   Weekly Mental Breaks  Sleep_Quality_Num  Mood_Num  \n",
       "0                   0.0                  1         3  \n",
       "1                   5.0                  1         1  \n",
       "2                   3.0                  3         4  \n",
       "3                   2.0                  2         1  \n",
       "4                   0.0                  1         1  \n",
       "\n",
       "[5 rows x 22 columns]"
      ]
     },
     "execution_count": 193,
     "metadata": {},
     "output_type": "execute_result"
    }
   ],
   "source": [
    "df.head()"
   ]
  },
  {
   "cell_type": "code",
   "execution_count": null,
   "id": "58ed0db0-f866-4800-8204-8fa8d7b21714",
   "metadata": {},
   "outputs": [],
   "source": []
  }
 ],
 "metadata": {
  "kernelspec": {
   "display_name": "Python [conda env:base] *",
   "language": "python",
   "name": "conda-base-py"
  },
  "language_info": {
   "codemirror_mode": {
    "name": "ipython",
    "version": 3
   },
   "file_extension": ".py",
   "mimetype": "text/x-python",
   "name": "python",
   "nbconvert_exporter": "python",
   "pygments_lexer": "ipython3",
   "version": "3.12.7"
  }
 },
 "nbformat": 4,
 "nbformat_minor": 5
}
